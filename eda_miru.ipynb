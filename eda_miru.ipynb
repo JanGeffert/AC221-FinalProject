{
 "cells": [
  {
   "cell_type": "code",
   "execution_count": 1,
   "metadata": {
    "ExecuteTime": {
     "end_time": "2019-05-05T05:10:41.623775Z",
     "start_time": "2019-05-05T05:10:40.659633Z"
    }
   },
   "outputs": [],
   "source": [
    "import pandas as pd\n",
    "import matplotlib.pyplot as plt\n",
    "import numpy as np\n",
    "import seaborn as sns"
   ]
  },
  {
   "cell_type": "code",
   "execution_count": 2,
   "metadata": {
    "ExecuteTime": {
     "end_time": "2019-05-05T03:22:57.803399Z",
     "start_time": "2019-05-05T03:22:57.677961Z"
    }
   },
   "outputs": [],
   "source": [
    "df = pd.read_csv(\"data/data.csv\")"
   ]
  },
  {
   "cell_type": "code",
   "execution_count": 3,
   "metadata": {
    "ExecuteTime": {
     "end_time": "2019-05-05T03:22:57.811717Z",
     "start_time": "2019-05-05T03:22:57.806262Z"
    }
   },
   "outputs": [
    {
     "data": {
      "text/plain": [
       "(30000, 25)"
      ]
     },
     "execution_count": 3,
     "metadata": {},
     "output_type": "execute_result"
    }
   ],
   "source": [
    "df.shape"
   ]
  },
  {
   "cell_type": "code",
   "execution_count": 4,
   "metadata": {
    "ExecuteTime": {
     "end_time": "2019-05-05T03:22:57.837107Z",
     "start_time": "2019-05-05T03:22:57.817110Z"
    }
   },
   "outputs": [
    {
     "data": {
      "text/html": [
       "<div>\n",
       "<style scoped>\n",
       "    .dataframe tbody tr th:only-of-type {\n",
       "        vertical-align: middle;\n",
       "    }\n",
       "\n",
       "    .dataframe tbody tr th {\n",
       "        vertical-align: top;\n",
       "    }\n",
       "\n",
       "    .dataframe thead th {\n",
       "        text-align: right;\n",
       "    }\n",
       "</style>\n",
       "<table border=\"1\" class=\"dataframe\">\n",
       "  <thead>\n",
       "    <tr style=\"text-align: right;\">\n",
       "      <th></th>\n",
       "      <th>id</th>\n",
       "      <th>limit_bal</th>\n",
       "      <th>sex</th>\n",
       "      <th>education</th>\n",
       "      <th>marriage</th>\n",
       "      <th>age</th>\n",
       "      <th>pay_0</th>\n",
       "      <th>pay_2</th>\n",
       "      <th>pay_3</th>\n",
       "      <th>pay_4</th>\n",
       "      <th>...</th>\n",
       "      <th>bill_amt_4</th>\n",
       "      <th>bill_amt_5</th>\n",
       "      <th>bill_amt_6</th>\n",
       "      <th>pay_amt_1</th>\n",
       "      <th>pay_amt_2</th>\n",
       "      <th>pay_amt_3</th>\n",
       "      <th>pay_amt_4</th>\n",
       "      <th>pay_amt_5</th>\n",
       "      <th>pay_amt_6</th>\n",
       "      <th>default</th>\n",
       "    </tr>\n",
       "  </thead>\n",
       "  <tbody>\n",
       "    <tr>\n",
       "      <th>0</th>\n",
       "      <td>1</td>\n",
       "      <td>20000</td>\n",
       "      <td>2</td>\n",
       "      <td>2</td>\n",
       "      <td>1</td>\n",
       "      <td>24</td>\n",
       "      <td>2</td>\n",
       "      <td>2</td>\n",
       "      <td>-1</td>\n",
       "      <td>-1</td>\n",
       "      <td>...</td>\n",
       "      <td>0</td>\n",
       "      <td>0</td>\n",
       "      <td>0</td>\n",
       "      <td>0</td>\n",
       "      <td>689</td>\n",
       "      <td>0</td>\n",
       "      <td>0</td>\n",
       "      <td>0</td>\n",
       "      <td>0</td>\n",
       "      <td>1</td>\n",
       "    </tr>\n",
       "    <tr>\n",
       "      <th>1</th>\n",
       "      <td>2</td>\n",
       "      <td>120000</td>\n",
       "      <td>2</td>\n",
       "      <td>2</td>\n",
       "      <td>2</td>\n",
       "      <td>26</td>\n",
       "      <td>-1</td>\n",
       "      <td>2</td>\n",
       "      <td>0</td>\n",
       "      <td>0</td>\n",
       "      <td>...</td>\n",
       "      <td>3272</td>\n",
       "      <td>3455</td>\n",
       "      <td>3261</td>\n",
       "      <td>0</td>\n",
       "      <td>1000</td>\n",
       "      <td>1000</td>\n",
       "      <td>1000</td>\n",
       "      <td>0</td>\n",
       "      <td>2000</td>\n",
       "      <td>1</td>\n",
       "    </tr>\n",
       "    <tr>\n",
       "      <th>2</th>\n",
       "      <td>3</td>\n",
       "      <td>90000</td>\n",
       "      <td>2</td>\n",
       "      <td>2</td>\n",
       "      <td>2</td>\n",
       "      <td>34</td>\n",
       "      <td>0</td>\n",
       "      <td>0</td>\n",
       "      <td>0</td>\n",
       "      <td>0</td>\n",
       "      <td>...</td>\n",
       "      <td>14331</td>\n",
       "      <td>14948</td>\n",
       "      <td>15549</td>\n",
       "      <td>1518</td>\n",
       "      <td>1500</td>\n",
       "      <td>1000</td>\n",
       "      <td>1000</td>\n",
       "      <td>1000</td>\n",
       "      <td>5000</td>\n",
       "      <td>0</td>\n",
       "    </tr>\n",
       "    <tr>\n",
       "      <th>3</th>\n",
       "      <td>4</td>\n",
       "      <td>50000</td>\n",
       "      <td>2</td>\n",
       "      <td>2</td>\n",
       "      <td>1</td>\n",
       "      <td>37</td>\n",
       "      <td>0</td>\n",
       "      <td>0</td>\n",
       "      <td>0</td>\n",
       "      <td>0</td>\n",
       "      <td>...</td>\n",
       "      <td>28314</td>\n",
       "      <td>28959</td>\n",
       "      <td>29547</td>\n",
       "      <td>2000</td>\n",
       "      <td>2019</td>\n",
       "      <td>1200</td>\n",
       "      <td>1100</td>\n",
       "      <td>1069</td>\n",
       "      <td>1000</td>\n",
       "      <td>0</td>\n",
       "    </tr>\n",
       "    <tr>\n",
       "      <th>4</th>\n",
       "      <td>5</td>\n",
       "      <td>50000</td>\n",
       "      <td>1</td>\n",
       "      <td>2</td>\n",
       "      <td>1</td>\n",
       "      <td>57</td>\n",
       "      <td>-1</td>\n",
       "      <td>0</td>\n",
       "      <td>-1</td>\n",
       "      <td>0</td>\n",
       "      <td>...</td>\n",
       "      <td>20940</td>\n",
       "      <td>19146</td>\n",
       "      <td>19131</td>\n",
       "      <td>2000</td>\n",
       "      <td>36681</td>\n",
       "      <td>10000</td>\n",
       "      <td>9000</td>\n",
       "      <td>689</td>\n",
       "      <td>679</td>\n",
       "      <td>0</td>\n",
       "    </tr>\n",
       "  </tbody>\n",
       "</table>\n",
       "<p>5 rows × 25 columns</p>\n",
       "</div>"
      ],
      "text/plain": [
       "   id  limit_bal  sex  education  marriage  age  pay_0  pay_2  pay_3  pay_4  \\\n",
       "0   1      20000    2          2         1   24      2      2     -1     -1   \n",
       "1   2     120000    2          2         2   26     -1      2      0      0   \n",
       "2   3      90000    2          2         2   34      0      0      0      0   \n",
       "3   4      50000    2          2         1   37      0      0      0      0   \n",
       "4   5      50000    1          2         1   57     -1      0     -1      0   \n",
       "\n",
       "    ...     bill_amt_4  bill_amt_5  bill_amt_6  pay_amt_1  pay_amt_2  \\\n",
       "0   ...              0           0           0          0        689   \n",
       "1   ...           3272        3455        3261          0       1000   \n",
       "2   ...          14331       14948       15549       1518       1500   \n",
       "3   ...          28314       28959       29547       2000       2019   \n",
       "4   ...          20940       19146       19131       2000      36681   \n",
       "\n",
       "   pay_amt_3  pay_amt_4  pay_amt_5  pay_amt_6  default  \n",
       "0          0          0          0          0        1  \n",
       "1       1000       1000          0       2000        1  \n",
       "2       1000       1000       1000       5000        0  \n",
       "3       1200       1100       1069       1000        0  \n",
       "4      10000       9000        689        679        0  \n",
       "\n",
       "[5 rows x 25 columns]"
      ]
     },
     "execution_count": 4,
     "metadata": {},
     "output_type": "execute_result"
    }
   ],
   "source": [
    "df.head()"
   ]
  },
  {
   "cell_type": "code",
   "execution_count": 5,
   "metadata": {
    "ExecuteTime": {
     "end_time": "2019-05-05T03:22:57.992258Z",
     "start_time": "2019-05-05T03:22:57.840222Z"
    }
   },
   "outputs": [
    {
     "data": {
      "text/html": [
       "<div>\n",
       "<style scoped>\n",
       "    .dataframe tbody tr th:only-of-type {\n",
       "        vertical-align: middle;\n",
       "    }\n",
       "\n",
       "    .dataframe tbody tr th {\n",
       "        vertical-align: top;\n",
       "    }\n",
       "\n",
       "    .dataframe thead th {\n",
       "        text-align: right;\n",
       "    }\n",
       "</style>\n",
       "<table border=\"1\" class=\"dataframe\">\n",
       "  <thead>\n",
       "    <tr style=\"text-align: right;\">\n",
       "      <th></th>\n",
       "      <th>id</th>\n",
       "      <th>limit_bal</th>\n",
       "      <th>sex</th>\n",
       "      <th>education</th>\n",
       "      <th>marriage</th>\n",
       "      <th>age</th>\n",
       "      <th>pay_0</th>\n",
       "      <th>pay_2</th>\n",
       "      <th>pay_3</th>\n",
       "      <th>pay_4</th>\n",
       "      <th>...</th>\n",
       "      <th>bill_amt_4</th>\n",
       "      <th>bill_amt_5</th>\n",
       "      <th>bill_amt_6</th>\n",
       "      <th>pay_amt_1</th>\n",
       "      <th>pay_amt_2</th>\n",
       "      <th>pay_amt_3</th>\n",
       "      <th>pay_amt_4</th>\n",
       "      <th>pay_amt_5</th>\n",
       "      <th>pay_amt_6</th>\n",
       "      <th>default</th>\n",
       "    </tr>\n",
       "  </thead>\n",
       "  <tbody>\n",
       "    <tr>\n",
       "      <th>count</th>\n",
       "      <td>30000.000000</td>\n",
       "      <td>30000.000000</td>\n",
       "      <td>30000.000000</td>\n",
       "      <td>30000.000000</td>\n",
       "      <td>30000.000000</td>\n",
       "      <td>30000.000000</td>\n",
       "      <td>30000.000000</td>\n",
       "      <td>30000.000000</td>\n",
       "      <td>30000.000000</td>\n",
       "      <td>30000.000000</td>\n",
       "      <td>...</td>\n",
       "      <td>30000.000000</td>\n",
       "      <td>30000.000000</td>\n",
       "      <td>30000.000000</td>\n",
       "      <td>30000.000000</td>\n",
       "      <td>3.000000e+04</td>\n",
       "      <td>30000.00000</td>\n",
       "      <td>30000.000000</td>\n",
       "      <td>30000.000000</td>\n",
       "      <td>30000.000000</td>\n",
       "      <td>30000.000000</td>\n",
       "    </tr>\n",
       "    <tr>\n",
       "      <th>mean</th>\n",
       "      <td>15000.500000</td>\n",
       "      <td>167484.322667</td>\n",
       "      <td>1.603733</td>\n",
       "      <td>1.853133</td>\n",
       "      <td>1.551867</td>\n",
       "      <td>35.485500</td>\n",
       "      <td>-0.016700</td>\n",
       "      <td>-0.133767</td>\n",
       "      <td>-0.166200</td>\n",
       "      <td>-0.220667</td>\n",
       "      <td>...</td>\n",
       "      <td>43262.948967</td>\n",
       "      <td>40311.400967</td>\n",
       "      <td>38871.760400</td>\n",
       "      <td>5663.580500</td>\n",
       "      <td>5.921163e+03</td>\n",
       "      <td>5225.68150</td>\n",
       "      <td>4826.076867</td>\n",
       "      <td>4799.387633</td>\n",
       "      <td>5215.502567</td>\n",
       "      <td>0.221200</td>\n",
       "    </tr>\n",
       "    <tr>\n",
       "      <th>std</th>\n",
       "      <td>8660.398374</td>\n",
       "      <td>129747.661567</td>\n",
       "      <td>0.489129</td>\n",
       "      <td>0.790349</td>\n",
       "      <td>0.521970</td>\n",
       "      <td>9.217904</td>\n",
       "      <td>1.123802</td>\n",
       "      <td>1.197186</td>\n",
       "      <td>1.196868</td>\n",
       "      <td>1.169139</td>\n",
       "      <td>...</td>\n",
       "      <td>64332.856134</td>\n",
       "      <td>60797.155770</td>\n",
       "      <td>59554.107537</td>\n",
       "      <td>16563.280354</td>\n",
       "      <td>2.304087e+04</td>\n",
       "      <td>17606.96147</td>\n",
       "      <td>15666.159744</td>\n",
       "      <td>15278.305679</td>\n",
       "      <td>17777.465775</td>\n",
       "      <td>0.415062</td>\n",
       "    </tr>\n",
       "    <tr>\n",
       "      <th>min</th>\n",
       "      <td>1.000000</td>\n",
       "      <td>10000.000000</td>\n",
       "      <td>1.000000</td>\n",
       "      <td>0.000000</td>\n",
       "      <td>0.000000</td>\n",
       "      <td>21.000000</td>\n",
       "      <td>-2.000000</td>\n",
       "      <td>-2.000000</td>\n",
       "      <td>-2.000000</td>\n",
       "      <td>-2.000000</td>\n",
       "      <td>...</td>\n",
       "      <td>-170000.000000</td>\n",
       "      <td>-81334.000000</td>\n",
       "      <td>-339603.000000</td>\n",
       "      <td>0.000000</td>\n",
       "      <td>0.000000e+00</td>\n",
       "      <td>0.00000</td>\n",
       "      <td>0.000000</td>\n",
       "      <td>0.000000</td>\n",
       "      <td>0.000000</td>\n",
       "      <td>0.000000</td>\n",
       "    </tr>\n",
       "    <tr>\n",
       "      <th>25%</th>\n",
       "      <td>7500.750000</td>\n",
       "      <td>50000.000000</td>\n",
       "      <td>1.000000</td>\n",
       "      <td>1.000000</td>\n",
       "      <td>1.000000</td>\n",
       "      <td>28.000000</td>\n",
       "      <td>-1.000000</td>\n",
       "      <td>-1.000000</td>\n",
       "      <td>-1.000000</td>\n",
       "      <td>-1.000000</td>\n",
       "      <td>...</td>\n",
       "      <td>2326.750000</td>\n",
       "      <td>1763.000000</td>\n",
       "      <td>1256.000000</td>\n",
       "      <td>1000.000000</td>\n",
       "      <td>8.330000e+02</td>\n",
       "      <td>390.00000</td>\n",
       "      <td>296.000000</td>\n",
       "      <td>252.500000</td>\n",
       "      <td>117.750000</td>\n",
       "      <td>0.000000</td>\n",
       "    </tr>\n",
       "    <tr>\n",
       "      <th>50%</th>\n",
       "      <td>15000.500000</td>\n",
       "      <td>140000.000000</td>\n",
       "      <td>2.000000</td>\n",
       "      <td>2.000000</td>\n",
       "      <td>2.000000</td>\n",
       "      <td>34.000000</td>\n",
       "      <td>0.000000</td>\n",
       "      <td>0.000000</td>\n",
       "      <td>0.000000</td>\n",
       "      <td>0.000000</td>\n",
       "      <td>...</td>\n",
       "      <td>19052.000000</td>\n",
       "      <td>18104.500000</td>\n",
       "      <td>17071.000000</td>\n",
       "      <td>2100.000000</td>\n",
       "      <td>2.009000e+03</td>\n",
       "      <td>1800.00000</td>\n",
       "      <td>1500.000000</td>\n",
       "      <td>1500.000000</td>\n",
       "      <td>1500.000000</td>\n",
       "      <td>0.000000</td>\n",
       "    </tr>\n",
       "    <tr>\n",
       "      <th>75%</th>\n",
       "      <td>22500.250000</td>\n",
       "      <td>240000.000000</td>\n",
       "      <td>2.000000</td>\n",
       "      <td>2.000000</td>\n",
       "      <td>2.000000</td>\n",
       "      <td>41.000000</td>\n",
       "      <td>0.000000</td>\n",
       "      <td>0.000000</td>\n",
       "      <td>0.000000</td>\n",
       "      <td>0.000000</td>\n",
       "      <td>...</td>\n",
       "      <td>54506.000000</td>\n",
       "      <td>50190.500000</td>\n",
       "      <td>49198.250000</td>\n",
       "      <td>5006.000000</td>\n",
       "      <td>5.000000e+03</td>\n",
       "      <td>4505.00000</td>\n",
       "      <td>4013.250000</td>\n",
       "      <td>4031.500000</td>\n",
       "      <td>4000.000000</td>\n",
       "      <td>0.000000</td>\n",
       "    </tr>\n",
       "    <tr>\n",
       "      <th>max</th>\n",
       "      <td>30000.000000</td>\n",
       "      <td>1000000.000000</td>\n",
       "      <td>2.000000</td>\n",
       "      <td>6.000000</td>\n",
       "      <td>3.000000</td>\n",
       "      <td>79.000000</td>\n",
       "      <td>8.000000</td>\n",
       "      <td>8.000000</td>\n",
       "      <td>8.000000</td>\n",
       "      <td>8.000000</td>\n",
       "      <td>...</td>\n",
       "      <td>891586.000000</td>\n",
       "      <td>927171.000000</td>\n",
       "      <td>961664.000000</td>\n",
       "      <td>873552.000000</td>\n",
       "      <td>1.684259e+06</td>\n",
       "      <td>896040.00000</td>\n",
       "      <td>621000.000000</td>\n",
       "      <td>426529.000000</td>\n",
       "      <td>528666.000000</td>\n",
       "      <td>1.000000</td>\n",
       "    </tr>\n",
       "  </tbody>\n",
       "</table>\n",
       "<p>8 rows × 25 columns</p>\n",
       "</div>"
      ],
      "text/plain": [
       "                 id       limit_bal           sex     education      marriage  \\\n",
       "count  30000.000000    30000.000000  30000.000000  30000.000000  30000.000000   \n",
       "mean   15000.500000   167484.322667      1.603733      1.853133      1.551867   \n",
       "std     8660.398374   129747.661567      0.489129      0.790349      0.521970   \n",
       "min        1.000000    10000.000000      1.000000      0.000000      0.000000   \n",
       "25%     7500.750000    50000.000000      1.000000      1.000000      1.000000   \n",
       "50%    15000.500000   140000.000000      2.000000      2.000000      2.000000   \n",
       "75%    22500.250000   240000.000000      2.000000      2.000000      2.000000   \n",
       "max    30000.000000  1000000.000000      2.000000      6.000000      3.000000   \n",
       "\n",
       "                age         pay_0         pay_2         pay_3         pay_4  \\\n",
       "count  30000.000000  30000.000000  30000.000000  30000.000000  30000.000000   \n",
       "mean      35.485500     -0.016700     -0.133767     -0.166200     -0.220667   \n",
       "std        9.217904      1.123802      1.197186      1.196868      1.169139   \n",
       "min       21.000000     -2.000000     -2.000000     -2.000000     -2.000000   \n",
       "25%       28.000000     -1.000000     -1.000000     -1.000000     -1.000000   \n",
       "50%       34.000000      0.000000      0.000000      0.000000      0.000000   \n",
       "75%       41.000000      0.000000      0.000000      0.000000      0.000000   \n",
       "max       79.000000      8.000000      8.000000      8.000000      8.000000   \n",
       "\n",
       "           ...          bill_amt_4     bill_amt_5     bill_amt_6  \\\n",
       "count      ...        30000.000000   30000.000000   30000.000000   \n",
       "mean       ...        43262.948967   40311.400967   38871.760400   \n",
       "std        ...        64332.856134   60797.155770   59554.107537   \n",
       "min        ...      -170000.000000  -81334.000000 -339603.000000   \n",
       "25%        ...         2326.750000    1763.000000    1256.000000   \n",
       "50%        ...        19052.000000   18104.500000   17071.000000   \n",
       "75%        ...        54506.000000   50190.500000   49198.250000   \n",
       "max        ...       891586.000000  927171.000000  961664.000000   \n",
       "\n",
       "           pay_amt_1     pay_amt_2     pay_amt_3      pay_amt_4  \\\n",
       "count   30000.000000  3.000000e+04   30000.00000   30000.000000   \n",
       "mean     5663.580500  5.921163e+03    5225.68150    4826.076867   \n",
       "std     16563.280354  2.304087e+04   17606.96147   15666.159744   \n",
       "min         0.000000  0.000000e+00       0.00000       0.000000   \n",
       "25%      1000.000000  8.330000e+02     390.00000     296.000000   \n",
       "50%      2100.000000  2.009000e+03    1800.00000    1500.000000   \n",
       "75%      5006.000000  5.000000e+03    4505.00000    4013.250000   \n",
       "max    873552.000000  1.684259e+06  896040.00000  621000.000000   \n",
       "\n",
       "           pay_amt_5      pay_amt_6       default  \n",
       "count   30000.000000   30000.000000  30000.000000  \n",
       "mean     4799.387633    5215.502567      0.221200  \n",
       "std     15278.305679   17777.465775      0.415062  \n",
       "min         0.000000       0.000000      0.000000  \n",
       "25%       252.500000     117.750000      0.000000  \n",
       "50%      1500.000000    1500.000000      0.000000  \n",
       "75%      4031.500000    4000.000000      0.000000  \n",
       "max    426529.000000  528666.000000      1.000000  \n",
       "\n",
       "[8 rows x 25 columns]"
      ]
     },
     "execution_count": 5,
     "metadata": {},
     "output_type": "execute_result"
    }
   ],
   "source": [
    "df.describe()"
   ]
  },
  {
   "cell_type": "code",
   "execution_count": 6,
   "metadata": {
    "ExecuteTime": {
     "end_time": "2019-05-05T03:22:58.021665Z",
     "start_time": "2019-05-05T03:22:57.994342Z"
    }
   },
   "outputs": [
    {
     "name": "stdout",
     "output_type": "stream",
     "text": [
      "<class 'pandas.core.frame.DataFrame'>\n",
      "RangeIndex: 30000 entries, 0 to 29999\n",
      "Data columns (total 25 columns):\n",
      "id            30000 non-null int64\n",
      "limit_bal     30000 non-null int64\n",
      "sex           30000 non-null int64\n",
      "education     30000 non-null int64\n",
      "marriage      30000 non-null int64\n",
      "age           30000 non-null int64\n",
      "pay_0         30000 non-null int64\n",
      "pay_2         30000 non-null int64\n",
      "pay_3         30000 non-null int64\n",
      "pay_4         30000 non-null int64\n",
      "pay_5         30000 non-null int64\n",
      "pay_6         30000 non-null int64\n",
      "bill_amt_1    30000 non-null int64\n",
      "bill_amt_2    30000 non-null int64\n",
      "bill_amt_3    30000 non-null int64\n",
      "bill_amt_4    30000 non-null int64\n",
      "bill_amt_5    30000 non-null int64\n",
      "bill_amt_6    30000 non-null int64\n",
      "pay_amt_1     30000 non-null int64\n",
      "pay_amt_2     30000 non-null int64\n",
      "pay_amt_3     30000 non-null int64\n",
      "pay_amt_4     30000 non-null int64\n",
      "pay_amt_5     30000 non-null int64\n",
      "pay_amt_6     30000 non-null int64\n",
      "default       30000 non-null int64\n",
      "dtypes: int64(25)\n",
      "memory usage: 5.7 MB\n"
     ]
    }
   ],
   "source": [
    "df.info()"
   ]
  },
  {
   "cell_type": "code",
   "execution_count": 7,
   "metadata": {
    "ExecuteTime": {
     "end_time": "2019-05-05T03:22:58.028280Z",
     "start_time": "2019-05-05T03:22:58.023662Z"
    }
   },
   "outputs": [
    {
     "data": {
      "text/plain": [
       "Index(['id', 'limit_bal', 'sex', 'education', 'marriage', 'age', 'pay_0',\n",
       "       'pay_2', 'pay_3', 'pay_4', 'pay_5', 'pay_6', 'bill_amt_1', 'bill_amt_2',\n",
       "       'bill_amt_3', 'bill_amt_4', 'bill_amt_5', 'bill_amt_6', 'pay_amt_1',\n",
       "       'pay_amt_2', 'pay_amt_3', 'pay_amt_4', 'pay_amt_5', 'pay_amt_6',\n",
       "       'default'],\n",
       "      dtype='object')"
      ]
     },
     "execution_count": 7,
     "metadata": {},
     "output_type": "execute_result"
    }
   ],
   "source": [
    "df.columns"
   ]
  },
  {
   "cell_type": "code",
   "execution_count": 8,
   "metadata": {
    "ExecuteTime": {
     "end_time": "2019-05-05T03:25:53.230220Z",
     "start_time": "2019-05-05T03:25:53.226155Z"
    }
   },
   "outputs": [],
   "source": [
    "cols_bar = list(['sex', 'education', 'marriage', 'pay_0',\n",
    "       'pay_2', 'pay_3', 'pay_4', 'pay_5', 'pay_6', 'default'])\n",
    "\n",
    "cols_hist = list(['limit_bal', 'age','bill_amt_1', 'bill_amt_2',\n",
    "       'bill_amt_3', 'bill_amt_4', 'bill_amt_5', 'bill_amt_6', 'pay_amt_1',\n",
    "       'pay_amt_2', 'pay_amt_3', 'pay_amt_4', 'pay_amt_5', 'pay_amt_6'])"
   ]
  },
  {
   "cell_type": "code",
   "execution_count": 9,
   "metadata": {
    "ExecuteTime": {
     "end_time": "2019-05-05T03:58:50.276707Z",
     "start_time": "2019-05-05T03:58:50.241848Z"
    }
   },
   "outputs": [],
   "source": [
    "df.loc[df['education'].isin(list([4,5,6])), 'education'] = 0 "
   ]
  },
  {
   "cell_type": "code",
   "execution_count": 10,
   "metadata": {
    "ExecuteTime": {
     "end_time": "2019-05-05T03:58:57.609357Z",
     "start_time": "2019-05-05T03:58:55.744178Z"
    },
    "code_folding": []
   },
   "outputs": [
    {
     "data": {
      "image/png": "[encoded data removed]",
      "text/plain": [
       "<Figure size 1080x1440 with 10 Axes>"
      ]
     },
     "metadata": {},
     "output_type": "display_data"
    }
   ],
   "source": [
    "fig, ax = plt.subplots(5,2, figsize=(15,20))\n",
    "ax = ax.flatten()\n",
    "\n",
    "for i in range(len(cols_bar)):\n",
    "    df.groupby(cols_bar[i]).count()[\"id\"].plot.bar(color='darkgreen', ax=ax[i], alpha=0.5);\n",
    "    sns.despine()"
   ]
  },
  {
   "cell_type": "code",
   "execution_count": 11,
   "metadata": {
    "ExecuteTime": {
     "end_time": "2019-05-05T04:03:28.660442Z",
     "start_time": "2019-05-05T04:03:24.818238Z"
    }
   },
   "outputs": [
    {
     "data": {
      "image/png": "[encoded data removed]",
      "text/plain": [
       "<Figure size 1080x1440 with 14 Axes>"
      ]
     },
     "metadata": {},
     "output_type": "display_data"
    }
   ],
   "source": [
    "fig, ax = plt.subplots(7,2, figsize=(15,20))\n",
    "ax = ax.flatten()\n",
    "\n",
    "for i in range(len(cols_hist)):\n",
    "    df[cols_hist[i]].plot.hist(bins=50, ax=ax[i], color='darkgreen', alpha=0.5)\n",
    "    sns.despine()\n",
    "    ax[i].set_ylabel(str(cols_hist[i]))"
   ]
  },
  {
   "cell_type": "code",
   "execution_count": 12,
   "metadata": {},
   "outputs": [],
   "source": [
    "age_df = pd.read_csv(\"data/age.csv\")\n",
    "age_df[\"freq\"] = age_df[\"n\"] / age_df[\"n\"].sum()"
   ]
  },
  {
   "cell_type": "code",
   "execution_count": 13,
   "metadata": {},
   "outputs": [
    {
     "data": {
      "image/png": "[encoded data removed]",
      "text/plain": [
       "<Figure size 576x288 with 1 Axes>"
      ]
     },
     "metadata": {},
     "output_type": "display_data"
    }
   ],
   "source": [
    "plt.figure(figsize=(8,4))\n",
    "age_df[\"freq\"].plot.bar(color=\"#f4623a\", width=1)\n",
    "plt.xlim([0,20])\n",
    "plt.xticks([0, 4.5, 8.5, 12.5, 16.5, 20.5],[\"0\",\"20\", \"40\", \"60\", \"80\", \"100\"])\n",
    "plt.xticks(rotation=0)\n",
    "plt.ylabel(\"Frequency\")\n",
    "plt.xlabel(\"Age\")\n",
    "sns.despine()\n",
    "plt.savefig(\"docs/img/population_age.png\")"
   ]
  },
  {
   "cell_type": "code",
   "execution_count": 14,
   "metadata": {},
   "outputs": [
    {
     "name": "stdout",
     "output_type": "stream",
     "text": [
      "Population age distribution\n",
      "0-4: 0.0503\n",
      "1-5: 0.0660\n",
      "2-6: 0.0708\n",
      "3-7: 0.0698\n",
      "4-8: 0.0819\n",
      "5-9: 0.0879\n",
      "6-10: 0.0782\n",
      "7-11: 0.0821\n",
      "8-12: 0.0845\n",
      "9-13: 0.0794\n",
      "10-14: 0.0706\n",
      "11-15: 0.0467\n",
      "12-16: 0.0343\n",
      "13-17: 0.0314\n",
      "14-18: 0.0258\n",
      "15-19: 0.0211\n",
      "16-20: 0.0121\n",
      "17-21: 0.0049\n",
      "18-22: 0.0017\n",
      "19-23: 0.0003\n",
      "20-24: 0.0001\n"
     ]
    }
   ],
   "source": [
    "print(\"Population age distribution\")\n",
    "for i, row in enumerate(age_df[\"freq\"]):\n",
    "    print(\"{}-{}: {:.4f}\".format(i, i+4, row))"
   ]
  },
  {
   "cell_type": "code",
   "execution_count": 15,
   "metadata": {},
   "outputs": [
    {
     "data": {
      "image/png": "[encoded data removed]",
      "text/plain": [
       "<Figure size 720x360 with 1 Axes>"
      ]
     },
     "metadata": {},
     "output_type": "display_data"
    }
   ],
   "source": [
    "plt.figure(figsize=(10,5))\n",
    "df[\"age\"].plot.hist(bins=20, range=(0,100), color='#f4623a', density=True)\n",
    "plt.xlim([0,100])\n",
    "plt.ylim()\n",
    "plt.xlabel(\"Age\")\n",
    "sns.despine()\n",
    "plt.savefig(\"docs/img/credit_age.png\")"
   ]
  },
  {
   "cell_type": "code",
   "execution_count": 16,
   "metadata": {},
   "outputs": [
    {
     "name": "stdout",
     "output_type": "stream",
     "text": [
      "Credit data age distribution\n",
      "0-5: 0.0000\n",
      "5-10: 0.0000\n",
      "10-15: 0.0000\n",
      "15-20: 0.0000\n",
      "20-25: 0.0895\n",
      "25-30: 0.1916\n",
      "30-35: 0.1561\n",
      "35-40: 0.1349\n",
      "40-45: 0.0996\n",
      "45-50: 0.0663\n",
      "50-55: 0.0405\n",
      "55-60: 0.0168\n",
      "60-65: 0.0054\n",
      "65-70: 0.0020\n",
      "70-75: 0.0004\n",
      "75-80: 0.0000\n",
      "80-85: 0.0000\n",
      "85-90: 0.0000\n",
      "90-95: 0.0000\n",
      "95-100: 0.0000\n"
     ]
    }
   ],
   "source": [
    "print(\"Credit data age distribution\")\n",
    "for i in range(0,100,5):\n",
    "    print(\"{}-{}: {:.4f}\".format(i, i+5, len(df[(df[\"age\"] > i) & (df[\"age\"] < i+5)])/30000))"
   ]
  },
  {
   "cell_type": "code",
   "execution_count": 17,
   "metadata": {},
   "outputs": [],
   "source": [
    "gender_df = pd.read_csv(\"data/gender.csv\")\n",
    "gender_df[\"freq\"] = gender_df[\"n\"] / gender_df[\"n\"].sum()"
   ]
  },
  {
   "cell_type": "code",
   "execution_count": 80,
   "metadata": {},
   "outputs": [
    {
     "data": {
      "image/png": "[encoded data removed]",
      "text/plain": [
       "<Figure size 432x288 with 1 Axes>"
      ]
     },
     "metadata": {},
     "output_type": "display_data"
    }
   ],
   "source": [
    "sns.barplot(y=\"gender\", x=\"freq\", data=gender_df, color=\"#f4623a\")\n",
    "plt.ylabel(\"Gender presentation (population)\")\n",
    "plt.xlabel(\"Proportion\")\n",
    "plt.xlim([0,0.6])\n",
    "plt.yticks([0,1],[\"M\",\"F\"])\n",
    "sns.despine()\n",
    "plt.savefig(\"docs/img/population_gender.png\")"
   ]
  },
  {
   "cell_type": "code",
   "execution_count": 19,
   "metadata": {},
   "outputs": [
    {
     "name": "stdout",
     "output_type": "stream",
     "text": [
      "Population gender distribution\n",
      "  gender         n     freq\n",
      "0      m  11386000  0.51056\n",
      "1      f  10915000  0.48944\n"
     ]
    }
   ],
   "source": [
    "print(\"Population gender distribution\")\n",
    "print(gender_df)"
   ]
  },
  {
   "cell_type": "code",
   "execution_count": 81,
   "metadata": {},
   "outputs": [
    {
     "data": {
      "image/png": "[encoded data removed]",
      "text/plain": [
       "<Figure size 432x288 with 1 Axes>"
      ]
     },
     "metadata": {},
     "output_type": "display_data"
    }
   ],
   "source": [
    "sex_df = df.groupby(\"sex\").count()[\"id\"]\n",
    "male_freq = sex_df[1] / sex_df.sum()\n",
    "female_freq = sex_df[2] / sex_df.sum()\n",
    "credit_gender_df = pd.DataFrame({\"gender\":[\"m\",\"f\"], \"freq\":[male_freq, female_freq]})\n",
    "\n",
    "sns.barplot(y=\"gender\", x=\"freq\", data=credit_gender_df, color=\"#f4623a\")\n",
    "sns.despine()\n",
    "plt.ylabel(\"Gender presentation (credit data)\")\n",
    "plt.xlabel(\"Proportion\")\n",
    "plt.xlim([0,0.6])\n",
    "plt.yticks([0,1],[\"M\",\"F\"])\n",
    "plt.savefig(\"docs/img/credit_gender.png\")"
   ]
  },
  {
   "cell_type": "code",
   "execution_count": 21,
   "metadata": {},
   "outputs": [
    {
     "name": "stdout",
     "output_type": "stream",
     "text": [
      "Credit data gender distribution\n",
      "  gender      freq\n",
      "0      m  0.396267\n",
      "1      f  0.603733\n"
     ]
    }
   ],
   "source": [
    "print(\"Credit data gender distribution\")\n",
    "print(credit_gender_df)"
   ]
  },
  {
   "cell_type": "code",
   "execution_count": 22,
   "metadata": {},
   "outputs": [],
   "source": [
    "marital_df = pd.read_csv(\"data/marital.csv\")"
   ]
  },
  {
   "cell_type": "code",
   "execution_count": 88,
   "metadata": {},
   "outputs": [
    {
     "data": {
      "image/png": "[encoded data removed]",
      "text/plain": [
       "<Figure size 432x288 with 1 Axes>"
      ]
     },
     "metadata": {},
     "output_type": "display_data"
    }
   ],
   "source": [
    "sns.barplot(y=\"marital_status\", x=\"freq\", data=marital_df, color=\"#f4623a\")\n",
    "sns.despine()\n",
    "plt.ylabel(\"Marital status (population)\")\n",
    "plt.xlabel(\"Proportion\")\n",
    "plt.savefig(\"docs/img/population_marital.png\")"
   ]
  },
  {
   "cell_type": "code",
   "execution_count": 24,
   "metadata": {},
   "outputs": [
    {
     "name": "stdout",
     "output_type": "stream",
     "text": [
      "Population marital status distribution\n",
      "  marital_status    freq\n",
      "0        married  0.5415\n",
      "1      unmarried  0.3430\n",
      "2        widowed  0.0575\n",
      "3       divorced  0.0580\n"
     ]
    }
   ],
   "source": [
    "print(\"Population marital status distribution\")\n",
    "print(marital_df)"
   ]
  },
  {
   "cell_type": "code",
   "execution_count": 87,
   "metadata": {},
   "outputs": [
    {
     "data": {
      "image/png": "[encoded data removed]",
      "text/plain": [
       "<Figure size 432x288 with 1 Axes>"
      ]
     },
     "metadata": {},
     "output_type": "display_data"
    }
   ],
   "source": [
    "married_freq = df.groupby(\"marriage\")[\"id\"].count()[1] / 30000\n",
    "single_freq = df.groupby(\"marriage\")[\"id\"].count()[2] / 30000\n",
    "divorced_freq = df.groupby(\"marriage\")[\"id\"].count()[3] / 30000\n",
    "\n",
    "credit_marital_df = pd.DataFrame({\"status\":[\"married\",\"single\", \"divorced\"],\n",
    "                                  \"freq\":[married_freq, single_freq, divorced_freq]})\n",
    "\n",
    "sns.barplot(y=\"status\", x=\"freq\", data=credit_marital_df, color=\"#f4623a\")\n",
    "sns.despine()\n",
    "plt.ylabel(\"Marital status (credit data)\")\n",
    "plt.xlabel(\"Proportion\")\n",
    "plt.savefig(\"docs/img/credit_marital.png\")"
   ]
  },
  {
   "cell_type": "code",
   "execution_count": 26,
   "metadata": {},
   "outputs": [
    {
     "name": "stdout",
     "output_type": "stream",
     "text": [
      "Credit data marital status distribution\n",
      "      status      freq\n",
      "0    married  0.455300\n",
      "1  unmarried  0.532133\n",
      "2   divorced  0.010767\n"
     ]
    }
   ],
   "source": [
    "print(\"Credit data marital status distribution\")\n",
    "print(credit_marital_df)"
   ]
  },
  {
   "cell_type": "code",
   "execution_count": 27,
   "metadata": {},
   "outputs": [
    {
     "data": {
      "image/png": "[encoded data removed]",
      "text/plain": [
       "<Figure size 432x288 with 1 Axes>"
      ]
     },
     "metadata": {},
     "output_type": "display_data"
    }
   ],
   "source": [
    "male_df = df[df[\"sex\"] == 1]\n",
    "female_df = df[df[\"sex\"] == 2]\n",
    "\n",
    "male_df[\"limit_bal\"].plot.hist(bins=50, color='darkgreen', alpha=0.5)\n",
    "plt.xlim([0,800000])\n",
    "plt.ylim([0,2500])\n",
    "sns.despine()"
   ]
  },
  {
   "cell_type": "code",
   "execution_count": 28,
   "metadata": {},
   "outputs": [
    {
     "data": {
      "image/png": "[encoded data removed]",
      "text/plain": [
       "<Figure size 432x288 with 1 Axes>"
      ]
     },
     "metadata": {},
     "output_type": "display_data"
    }
   ],
   "source": [
    "female_df[\"limit_bal\"].plot.hist(bins=50, color='darkorange', alpha=0.5)\n",
    "plt.xlim([0,800000])\n",
    "plt.ylim([0,2500])\n",
    "sns.despine()"
   ]
  },
  {
   "cell_type": "code",
   "execution_count": 29,
   "metadata": {},
   "outputs": [
    {
     "data": {
      "text/html": [
       "<div>\n",
       "<style scoped>\n",
       "    .dataframe tbody tr th:only-of-type {\n",
       "        vertical-align: middle;\n",
       "    }\n",
       "\n",
       "    .dataframe tbody tr th {\n",
       "        vertical-align: top;\n",
       "    }\n",
       "\n",
       "    .dataframe thead th {\n",
       "        text-align: right;\n",
       "    }\n",
       "</style>\n",
       "<table border=\"1\" class=\"dataframe\">\n",
       "  <thead>\n",
       "    <tr style=\"text-align: right;\">\n",
       "      <th></th>\n",
       "      <th>id</th>\n",
       "      <th>limit_bal</th>\n",
       "      <th>sex</th>\n",
       "      <th>education</th>\n",
       "      <th>marriage</th>\n",
       "      <th>age</th>\n",
       "      <th>pay_0</th>\n",
       "      <th>pay_2</th>\n",
       "      <th>pay_3</th>\n",
       "      <th>pay_4</th>\n",
       "      <th>...</th>\n",
       "      <th>bill_amt_4</th>\n",
       "      <th>bill_amt_5</th>\n",
       "      <th>bill_amt_6</th>\n",
       "      <th>pay_amt_1</th>\n",
       "      <th>pay_amt_2</th>\n",
       "      <th>pay_amt_3</th>\n",
       "      <th>pay_amt_4</th>\n",
       "      <th>pay_amt_5</th>\n",
       "      <th>pay_amt_6</th>\n",
       "      <th>default</th>\n",
       "    </tr>\n",
       "  </thead>\n",
       "  <tbody>\n",
       "    <tr>\n",
       "      <th>count</th>\n",
       "      <td>11888.000000</td>\n",
       "      <td>11888.000000</td>\n",
       "      <td>11888.0</td>\n",
       "      <td>11888.000000</td>\n",
       "      <td>11888.000000</td>\n",
       "      <td>11888.000000</td>\n",
       "      <td>11888.000000</td>\n",
       "      <td>11888.000000</td>\n",
       "      <td>11888.000000</td>\n",
       "      <td>11888.000000</td>\n",
       "      <td>...</td>\n",
       "      <td>11888.000000</td>\n",
       "      <td>11888.000000</td>\n",
       "      <td>11888.00000</td>\n",
       "      <td>11888.000000</td>\n",
       "      <td>11888.000000</td>\n",
       "      <td>11888.000000</td>\n",
       "      <td>11888.000000</td>\n",
       "      <td>11888.000000</td>\n",
       "      <td>11888.000000</td>\n",
       "      <td>11888.000000</td>\n",
       "    </tr>\n",
       "    <tr>\n",
       "      <th>mean</th>\n",
       "      <td>14802.770104</td>\n",
       "      <td>163519.825034</td>\n",
       "      <td>1.0</td>\n",
       "      <td>1.772544</td>\n",
       "      <td>1.572090</td>\n",
       "      <td>36.519431</td>\n",
       "      <td>0.063257</td>\n",
       "      <td>-0.029189</td>\n",
       "      <td>-0.068557</td>\n",
       "      <td>-0.133832</td>\n",
       "      <td>...</td>\n",
       "      <td>45000.331090</td>\n",
       "      <td>41587.504963</td>\n",
       "      <td>40101.77532</td>\n",
       "      <td>5668.537264</td>\n",
       "      <td>5960.720138</td>\n",
       "      <td>5412.506057</td>\n",
       "      <td>4869.177995</td>\n",
       "      <td>4830.827052</td>\n",
       "      <td>5276.196753</td>\n",
       "      <td>0.241672</td>\n",
       "    </tr>\n",
       "    <tr>\n",
       "      <th>std</th>\n",
       "      <td>8957.861425</td>\n",
       "      <td>136250.481355</td>\n",
       "      <td>0.0</td>\n",
       "      <td>0.734273</td>\n",
       "      <td>0.518864</td>\n",
       "      <td>9.404555</td>\n",
       "      <td>1.131782</td>\n",
       "      <td>1.212816</td>\n",
       "      <td>1.212617</td>\n",
       "      <td>1.198274</td>\n",
       "      <td>...</td>\n",
       "      <td>67251.314983</td>\n",
       "      <td>63239.510286</td>\n",
       "      <td>62249.54505</td>\n",
       "      <td>15812.062952</td>\n",
       "      <td>18459.157003</td>\n",
       "      <td>18300.915102</td>\n",
       "      <td>16565.407969</td>\n",
       "      <td>15367.899454</td>\n",
       "      <td>18787.551688</td>\n",
       "      <td>0.428115</td>\n",
       "    </tr>\n",
       "    <tr>\n",
       "      <th>min</th>\n",
       "      <td>5.000000</td>\n",
       "      <td>10000.000000</td>\n",
       "      <td>1.0</td>\n",
       "      <td>0.000000</td>\n",
       "      <td>0.000000</td>\n",
       "      <td>21.000000</td>\n",
       "      <td>-2.000000</td>\n",
       "      <td>-2.000000</td>\n",
       "      <td>-2.000000</td>\n",
       "      <td>-2.000000</td>\n",
       "      <td>...</td>\n",
       "      <td>-170000.000000</td>\n",
       "      <td>-61372.000000</td>\n",
       "      <td>-339603.00000</td>\n",
       "      <td>0.000000</td>\n",
       "      <td>0.000000</td>\n",
       "      <td>0.000000</td>\n",
       "      <td>0.000000</td>\n",
       "      <td>0.000000</td>\n",
       "      <td>0.000000</td>\n",
       "      <td>0.000000</td>\n",
       "    </tr>\n",
       "    <tr>\n",
       "      <th>25%</th>\n",
       "      <td>7056.750000</td>\n",
       "      <td>50000.000000</td>\n",
       "      <td>1.0</td>\n",
       "      <td>1.000000</td>\n",
       "      <td>1.000000</td>\n",
       "      <td>29.000000</td>\n",
       "      <td>-1.000000</td>\n",
       "      <td>-1.000000</td>\n",
       "      <td>-1.000000</td>\n",
       "      <td>-1.000000</td>\n",
       "      <td>...</td>\n",
       "      <td>2908.500000</td>\n",
       "      <td>2164.250000</td>\n",
       "      <td>1428.75000</td>\n",
       "      <td>1000.000000</td>\n",
       "      <td>863.500000</td>\n",
       "      <td>390.000000</td>\n",
       "      <td>300.000000</td>\n",
       "      <td>254.000000</td>\n",
       "      <td>0.000000</td>\n",
       "      <td>0.000000</td>\n",
       "    </tr>\n",
       "    <tr>\n",
       "      <th>50%</th>\n",
       "      <td>14083.500000</td>\n",
       "      <td>130000.000000</td>\n",
       "      <td>1.0</td>\n",
       "      <td>2.000000</td>\n",
       "      <td>2.000000</td>\n",
       "      <td>35.000000</td>\n",
       "      <td>0.000000</td>\n",
       "      <td>0.000000</td>\n",
       "      <td>0.000000</td>\n",
       "      <td>0.000000</td>\n",
       "      <td>...</td>\n",
       "      <td>19350.000000</td>\n",
       "      <td>18394.000000</td>\n",
       "      <td>17642.00000</td>\n",
       "      <td>2100.000000</td>\n",
       "      <td>2000.000000</td>\n",
       "      <td>1653.500000</td>\n",
       "      <td>1444.000000</td>\n",
       "      <td>1500.000000</td>\n",
       "      <td>1300.000000</td>\n",
       "      <td>0.000000</td>\n",
       "    </tr>\n",
       "    <tr>\n",
       "      <th>75%</th>\n",
       "      <td>23994.250000</td>\n",
       "      <td>240000.000000</td>\n",
       "      <td>1.0</td>\n",
       "      <td>2.000000</td>\n",
       "      <td>2.000000</td>\n",
       "      <td>43.000000</td>\n",
       "      <td>0.000000</td>\n",
       "      <td>0.000000</td>\n",
       "      <td>0.000000</td>\n",
       "      <td>0.000000</td>\n",
       "      <td>...</td>\n",
       "      <td>54985.500000</td>\n",
       "      <td>50283.000000</td>\n",
       "      <td>49243.50000</td>\n",
       "      <td>5011.000000</td>\n",
       "      <td>5000.000000</td>\n",
       "      <td>4409.000000</td>\n",
       "      <td>4003.500000</td>\n",
       "      <td>4000.000000</td>\n",
       "      <td>4000.000000</td>\n",
       "      <td>0.000000</td>\n",
       "    </tr>\n",
       "    <tr>\n",
       "      <th>max</th>\n",
       "      <td>30000.000000</td>\n",
       "      <td>800000.000000</td>\n",
       "      <td>1.0</td>\n",
       "      <td>3.000000</td>\n",
       "      <td>3.000000</td>\n",
       "      <td>79.000000</td>\n",
       "      <td>8.000000</td>\n",
       "      <td>7.000000</td>\n",
       "      <td>8.000000</td>\n",
       "      <td>8.000000</td>\n",
       "      <td>...</td>\n",
       "      <td>628699.000000</td>\n",
       "      <td>823540.000000</td>\n",
       "      <td>699944.00000</td>\n",
       "      <td>505000.000000</td>\n",
       "      <td>388126.000000</td>\n",
       "      <td>508229.000000</td>\n",
       "      <td>528897.000000</td>\n",
       "      <td>332000.000000</td>\n",
       "      <td>527143.000000</td>\n",
       "      <td>1.000000</td>\n",
       "    </tr>\n",
       "  </tbody>\n",
       "</table>\n",
       "<p>8 rows × 25 columns</p>\n",
       "</div>"
      ],
      "text/plain": [
       "                 id      limit_bal      sex     education      marriage  \\\n",
       "count  11888.000000   11888.000000  11888.0  11888.000000  11888.000000   \n",
       "mean   14802.770104  163519.825034      1.0      1.772544      1.572090   \n",
       "std     8957.861425  136250.481355      0.0      0.734273      0.518864   \n",
       "min        5.000000   10000.000000      1.0      0.000000      0.000000   \n",
       "25%     7056.750000   50000.000000      1.0      1.000000      1.000000   \n",
       "50%    14083.500000  130000.000000      1.0      2.000000      2.000000   \n",
       "75%    23994.250000  240000.000000      1.0      2.000000      2.000000   \n",
       "max    30000.000000  800000.000000      1.0      3.000000      3.000000   \n",
       "\n",
       "                age         pay_0         pay_2         pay_3         pay_4  \\\n",
       "count  11888.000000  11888.000000  11888.000000  11888.000000  11888.000000   \n",
       "mean      36.519431      0.063257     -0.029189     -0.068557     -0.133832   \n",
       "std        9.404555      1.131782      1.212816      1.212617      1.198274   \n",
       "min       21.000000     -2.000000     -2.000000     -2.000000     -2.000000   \n",
       "25%       29.000000     -1.000000     -1.000000     -1.000000     -1.000000   \n",
       "50%       35.000000      0.000000      0.000000      0.000000      0.000000   \n",
       "75%       43.000000      0.000000      0.000000      0.000000      0.000000   \n",
       "max       79.000000      8.000000      7.000000      8.000000      8.000000   \n",
       "\n",
       "           ...          bill_amt_4     bill_amt_5    bill_amt_6  \\\n",
       "count      ...        11888.000000   11888.000000   11888.00000   \n",
       "mean       ...        45000.331090   41587.504963   40101.77532   \n",
       "std        ...        67251.314983   63239.510286   62249.54505   \n",
       "min        ...      -170000.000000  -61372.000000 -339603.00000   \n",
       "25%        ...         2908.500000    2164.250000    1428.75000   \n",
       "50%        ...        19350.000000   18394.000000   17642.00000   \n",
       "75%        ...        54985.500000   50283.000000   49243.50000   \n",
       "max        ...       628699.000000  823540.000000  699944.00000   \n",
       "\n",
       "           pay_amt_1      pay_amt_2      pay_amt_3      pay_amt_4  \\\n",
       "count   11888.000000   11888.000000   11888.000000   11888.000000   \n",
       "mean     5668.537264    5960.720138    5412.506057    4869.177995   \n",
       "std     15812.062952   18459.157003   18300.915102   16565.407969   \n",
       "min         0.000000       0.000000       0.000000       0.000000   \n",
       "25%      1000.000000     863.500000     390.000000     300.000000   \n",
       "50%      2100.000000    2000.000000    1653.500000    1444.000000   \n",
       "75%      5011.000000    5000.000000    4409.000000    4003.500000   \n",
       "max    505000.000000  388126.000000  508229.000000  528897.000000   \n",
       "\n",
       "           pay_amt_5      pay_amt_6       default  \n",
       "count   11888.000000   11888.000000  11888.000000  \n",
       "mean     4830.827052    5276.196753      0.241672  \n",
       "std     15367.899454   18787.551688      0.428115  \n",
       "min         0.000000       0.000000      0.000000  \n",
       "25%       254.000000       0.000000      0.000000  \n",
       "50%      1500.000000    1300.000000      0.000000  \n",
       "75%      4000.000000    4000.000000      0.000000  \n",
       "max    332000.000000  527143.000000      1.000000  \n",
       "\n",
       "[8 rows x 25 columns]"
      ]
     },
     "execution_count": 29,
     "metadata": {},
     "output_type": "execute_result"
    }
   ],
   "source": [
    "male_df.describe()"
   ]
  },
  {
   "cell_type": "code",
   "execution_count": 30,
   "metadata": {},
   "outputs": [
    {
     "data": {
      "text/html": [
       "<div>\n",
       "<style scoped>\n",
       "    .dataframe tbody tr th:only-of-type {\n",
       "        vertical-align: middle;\n",
       "    }\n",
       "\n",
       "    .dataframe tbody tr th {\n",
       "        vertical-align: top;\n",
       "    }\n",
       "\n",
       "    .dataframe thead th {\n",
       "        text-align: right;\n",
       "    }\n",
       "</style>\n",
       "<table border=\"1\" class=\"dataframe\">\n",
       "  <thead>\n",
       "    <tr style=\"text-align: right;\">\n",
       "      <th></th>\n",
       "      <th>id</th>\n",
       "      <th>limit_bal</th>\n",
       "      <th>sex</th>\n",
       "      <th>education</th>\n",
       "      <th>marriage</th>\n",
       "      <th>age</th>\n",
       "      <th>pay_0</th>\n",
       "      <th>pay_2</th>\n",
       "      <th>pay_3</th>\n",
       "      <th>pay_4</th>\n",
       "      <th>...</th>\n",
       "      <th>bill_amt_4</th>\n",
       "      <th>bill_amt_5</th>\n",
       "      <th>bill_amt_6</th>\n",
       "      <th>pay_amt_1</th>\n",
       "      <th>pay_amt_2</th>\n",
       "      <th>pay_amt_3</th>\n",
       "      <th>pay_amt_4</th>\n",
       "      <th>pay_amt_5</th>\n",
       "      <th>pay_amt_6</th>\n",
       "      <th>default</th>\n",
       "    </tr>\n",
       "  </thead>\n",
       "  <tbody>\n",
       "    <tr>\n",
       "      <th>count</th>\n",
       "      <td>18112.000000</td>\n",
       "      <td>18112.000000</td>\n",
       "      <td>18112.0</td>\n",
       "      <td>18112.000000</td>\n",
       "      <td>18112.000000</td>\n",
       "      <td>18112.000000</td>\n",
       "      <td>18112.000000</td>\n",
       "      <td>18112.000000</td>\n",
       "      <td>18112.000000</td>\n",
       "      <td>18112.000000</td>\n",
       "      <td>...</td>\n",
       "      <td>18112.000000</td>\n",
       "      <td>18112.000000</td>\n",
       "      <td>18112.000000</td>\n",
       "      <td>18112.000000</td>\n",
       "      <td>1.811200e+04</td>\n",
       "      <td>18112.000000</td>\n",
       "      <td>18112.000000</td>\n",
       "      <td>18112.000000</td>\n",
       "      <td>18112.000000</td>\n",
       "      <td>18112.000000</td>\n",
       "    </tr>\n",
       "    <tr>\n",
       "      <th>mean</th>\n",
       "      <td>15130.282078</td>\n",
       "      <td>170086.462014</td>\n",
       "      <td>2.0</td>\n",
       "      <td>1.784673</td>\n",
       "      <td>1.538593</td>\n",
       "      <td>34.806868</td>\n",
       "      <td>-0.069181</td>\n",
       "      <td>-0.202407</td>\n",
       "      <td>-0.230289</td>\n",
       "      <td>-0.277661</td>\n",
       "      <td>...</td>\n",
       "      <td>42122.600099</td>\n",
       "      <td>39473.816807</td>\n",
       "      <td>38064.427286</td>\n",
       "      <td>5660.327076</td>\n",
       "      <td>5.895200e+03</td>\n",
       "      <td>5103.057255</td>\n",
       "      <td>4797.786992</td>\n",
       "      <td>4778.752043</td>\n",
       "      <td>5175.665305</td>\n",
       "      <td>0.207763</td>\n",
       "    </tr>\n",
       "    <tr>\n",
       "      <th>std</th>\n",
       "      <td>8457.209453</td>\n",
       "      <td>125231.777960</td>\n",
       "      <td>0.0</td>\n",
       "      <td>0.724643</td>\n",
       "      <td>0.523588</td>\n",
       "      <td>9.029441</td>\n",
       "      <td>1.115452</td>\n",
       "      <td>1.181829</td>\n",
       "      <td>1.182074</td>\n",
       "      <td>1.146077</td>\n",
       "      <td>...</td>\n",
       "      <td>62318.640022</td>\n",
       "      <td>59126.091369</td>\n",
       "      <td>57704.042067</td>\n",
       "      <td>17038.785342</td>\n",
       "      <td>2.560677e+04</td>\n",
       "      <td>17135.614417</td>\n",
       "      <td>15047.145044</td>\n",
       "      <td>15219.603007</td>\n",
       "      <td>17082.463071</td>\n",
       "      <td>0.405717</td>\n",
       "    </tr>\n",
       "    <tr>\n",
       "      <th>min</th>\n",
       "      <td>1.000000</td>\n",
       "      <td>10000.000000</td>\n",
       "      <td>2.0</td>\n",
       "      <td>0.000000</td>\n",
       "      <td>0.000000</td>\n",
       "      <td>21.000000</td>\n",
       "      <td>-2.000000</td>\n",
       "      <td>-2.000000</td>\n",
       "      <td>-2.000000</td>\n",
       "      <td>-2.000000</td>\n",
       "      <td>...</td>\n",
       "      <td>-81334.000000</td>\n",
       "      <td>-81334.000000</td>\n",
       "      <td>-209051.000000</td>\n",
       "      <td>0.000000</td>\n",
       "      <td>0.000000e+00</td>\n",
       "      <td>0.000000</td>\n",
       "      <td>0.000000</td>\n",
       "      <td>0.000000</td>\n",
       "      <td>0.000000</td>\n",
       "      <td>0.000000</td>\n",
       "    </tr>\n",
       "    <tr>\n",
       "      <th>25%</th>\n",
       "      <td>7783.250000</td>\n",
       "      <td>70000.000000</td>\n",
       "      <td>2.0</td>\n",
       "      <td>1.000000</td>\n",
       "      <td>1.000000</td>\n",
       "      <td>28.000000</td>\n",
       "      <td>-1.000000</td>\n",
       "      <td>-1.000000</td>\n",
       "      <td>-1.000000</td>\n",
       "      <td>-1.000000</td>\n",
       "      <td>...</td>\n",
       "      <td>1988.750000</td>\n",
       "      <td>1599.500000</td>\n",
       "      <td>1152.500000</td>\n",
       "      <td>877.750000</td>\n",
       "      <td>8.157500e+02</td>\n",
       "      <td>396.000000</td>\n",
       "      <td>286.750000</td>\n",
       "      <td>252.500000</td>\n",
       "      <td>193.000000</td>\n",
       "      <td>0.000000</td>\n",
       "    </tr>\n",
       "    <tr>\n",
       "      <th>50%</th>\n",
       "      <td>15784.500000</td>\n",
       "      <td>150000.000000</td>\n",
       "      <td>2.0</td>\n",
       "      <td>2.000000</td>\n",
       "      <td>2.000000</td>\n",
       "      <td>33.000000</td>\n",
       "      <td>0.000000</td>\n",
       "      <td>0.000000</td>\n",
       "      <td>0.000000</td>\n",
       "      <td>0.000000</td>\n",
       "      <td>...</td>\n",
       "      <td>18678.000000</td>\n",
       "      <td>17811.500000</td>\n",
       "      <td>16513.500000</td>\n",
       "      <td>2124.500000</td>\n",
       "      <td>2.033500e+03</td>\n",
       "      <td>1953.000000</td>\n",
       "      <td>1540.000000</td>\n",
       "      <td>1597.000000</td>\n",
       "      <td>1588.000000</td>\n",
       "      <td>0.000000</td>\n",
       "    </tr>\n",
       "    <tr>\n",
       "      <th>75%</th>\n",
       "      <td>22355.250000</td>\n",
       "      <td>240000.000000</td>\n",
       "      <td>2.0</td>\n",
       "      <td>2.000000</td>\n",
       "      <td>2.000000</td>\n",
       "      <td>41.000000</td>\n",
       "      <td>0.000000</td>\n",
       "      <td>0.000000</td>\n",
       "      <td>0.000000</td>\n",
       "      <td>0.000000</td>\n",
       "      <td>...</td>\n",
       "      <td>54179.750000</td>\n",
       "      <td>50073.500000</td>\n",
       "      <td>49146.250000</td>\n",
       "      <td>5005.000000</td>\n",
       "      <td>5.000000e+03</td>\n",
       "      <td>4600.000000</td>\n",
       "      <td>4030.750000</td>\n",
       "      <td>4106.250000</td>\n",
       "      <td>4150.000000</td>\n",
       "      <td>0.000000</td>\n",
       "    </tr>\n",
       "    <tr>\n",
       "      <th>max</th>\n",
       "      <td>29283.000000</td>\n",
       "      <td>1000000.000000</td>\n",
       "      <td>2.0</td>\n",
       "      <td>3.000000</td>\n",
       "      <td>3.000000</td>\n",
       "      <td>75.000000</td>\n",
       "      <td>8.000000</td>\n",
       "      <td>8.000000</td>\n",
       "      <td>7.000000</td>\n",
       "      <td>7.000000</td>\n",
       "      <td>...</td>\n",
       "      <td>891586.000000</td>\n",
       "      <td>927171.000000</td>\n",
       "      <td>961664.000000</td>\n",
       "      <td>873552.000000</td>\n",
       "      <td>1.684259e+06</td>\n",
       "      <td>896040.000000</td>\n",
       "      <td>621000.000000</td>\n",
       "      <td>426529.000000</td>\n",
       "      <td>528666.000000</td>\n",
       "      <td>1.000000</td>\n",
       "    </tr>\n",
       "  </tbody>\n",
       "</table>\n",
       "<p>8 rows × 25 columns</p>\n",
       "</div>"
      ],
      "text/plain": [
       "                 id       limit_bal      sex     education      marriage  \\\n",
       "count  18112.000000    18112.000000  18112.0  18112.000000  18112.000000   \n",
       "mean   15130.282078   170086.462014      2.0      1.784673      1.538593   \n",
       "std     8457.209453   125231.777960      0.0      0.724643      0.523588   \n",
       "min        1.000000    10000.000000      2.0      0.000000      0.000000   \n",
       "25%     7783.250000    70000.000000      2.0      1.000000      1.000000   \n",
       "50%    15784.500000   150000.000000      2.0      2.000000      2.000000   \n",
       "75%    22355.250000   240000.000000      2.0      2.000000      2.000000   \n",
       "max    29283.000000  1000000.000000      2.0      3.000000      3.000000   \n",
       "\n",
       "                age         pay_0         pay_2         pay_3         pay_4  \\\n",
       "count  18112.000000  18112.000000  18112.000000  18112.000000  18112.000000   \n",
       "mean      34.806868     -0.069181     -0.202407     -0.230289     -0.277661   \n",
       "std        9.029441      1.115452      1.181829      1.182074      1.146077   \n",
       "min       21.000000     -2.000000     -2.000000     -2.000000     -2.000000   \n",
       "25%       28.000000     -1.000000     -1.000000     -1.000000     -1.000000   \n",
       "50%       33.000000      0.000000      0.000000      0.000000      0.000000   \n",
       "75%       41.000000      0.000000      0.000000      0.000000      0.000000   \n",
       "max       75.000000      8.000000      8.000000      7.000000      7.000000   \n",
       "\n",
       "           ...          bill_amt_4     bill_amt_5     bill_amt_6  \\\n",
       "count      ...        18112.000000   18112.000000   18112.000000   \n",
       "mean       ...        42122.600099   39473.816807   38064.427286   \n",
       "std        ...        62318.640022   59126.091369   57704.042067   \n",
       "min        ...       -81334.000000  -81334.000000 -209051.000000   \n",
       "25%        ...         1988.750000    1599.500000    1152.500000   \n",
       "50%        ...        18678.000000   17811.500000   16513.500000   \n",
       "75%        ...        54179.750000   50073.500000   49146.250000   \n",
       "max        ...       891586.000000  927171.000000  961664.000000   \n",
       "\n",
       "           pay_amt_1     pay_amt_2      pay_amt_3      pay_amt_4  \\\n",
       "count   18112.000000  1.811200e+04   18112.000000   18112.000000   \n",
       "mean     5660.327076  5.895200e+03    5103.057255    4797.786992   \n",
       "std     17038.785342  2.560677e+04   17135.614417   15047.145044   \n",
       "min         0.000000  0.000000e+00       0.000000       0.000000   \n",
       "25%       877.750000  8.157500e+02     396.000000     286.750000   \n",
       "50%      2124.500000  2.033500e+03    1953.000000    1540.000000   \n",
       "75%      5005.000000  5.000000e+03    4600.000000    4030.750000   \n",
       "max    873552.000000  1.684259e+06  896040.000000  621000.000000   \n",
       "\n",
       "           pay_amt_5      pay_amt_6       default  \n",
       "count   18112.000000   18112.000000  18112.000000  \n",
       "mean     4778.752043    5175.665305      0.207763  \n",
       "std     15219.603007   17082.463071      0.405717  \n",
       "min         0.000000       0.000000      0.000000  \n",
       "25%       252.500000     193.000000      0.000000  \n",
       "50%      1597.000000    1588.000000      0.000000  \n",
       "75%      4106.250000    4150.000000      0.000000  \n",
       "max    426529.000000  528666.000000      1.000000  \n",
       "\n",
       "[8 rows x 25 columns]"
      ]
     },
     "execution_count": 30,
     "metadata": {},
     "output_type": "execute_result"
    }
   ],
   "source": [
    "female_df.describe()"
   ]
  },
  {
   "cell_type": "code",
   "execution_count": 31,
   "metadata": {},
   "outputs": [],
   "source": [
    "from scipy import stats "
   ]
  },
  {
   "cell_type": "code",
   "execution_count": 32,
   "metadata": {},
   "outputs": [
    {
     "data": {
      "text/plain": [
       "Ttest_indResult(statistic=-4.288903937895565, pvalue=1.8011800666712788e-05)"
      ]
     },
     "execution_count": 32,
     "metadata": {},
     "output_type": "execute_result"
    }
   ],
   "source": [
    "stats.ttest_ind(male_df[\"limit_bal\"], female_df[\"limit_bal\"])"
   ]
  },
  {
   "cell_type": "code",
   "execution_count": 33,
   "metadata": {},
   "outputs": [
    {
     "data": {
      "text/plain": [
       "Ttest_indResult(statistic=6.926677006157903, pvalue=4.3952488032748674e-12)"
      ]
     },
     "execution_count": 33,
     "metadata": {},
     "output_type": "execute_result"
    }
   ],
   "source": [
    "stats.ttest_ind(male_df[\"default\"], female_df[\"default\"])"
   ]
  },
  {
   "cell_type": "code",
   "execution_count": 34,
   "metadata": {},
   "outputs": [],
   "source": [
    "# Men default on their credits significantly more often than women"
   ]
  },
  {
   "cell_type": "code",
   "execution_count": 35,
   "metadata": {},
   "outputs": [
    {
     "name": "stderr",
     "output_type": "stream",
     "text": [
      "/Users/jan/anaconda3/lib/python3.6/site-packages/scipy/stats/stats.py:1713: FutureWarning: Using a non-tuple sequence for multidimensional indexing is deprecated; use `arr[tuple(seq)]` instead of `arr[seq]`. In the future this will be interpreted as an array index, `arr[np.array(seq)]`, which will result either in an error or a different result.\n",
      "  return np.add.reduce(sorted[indexer] * weights, axis=axis) / sumval\n"
     ]
    },
    {
     "data": {
      "text/plain": [
       "<matplotlib.axes._subplots.AxesSubplot at 0x1a1bd09b70>"
      ]
     },
     "execution_count": 35,
     "metadata": {},
     "output_type": "execute_result"
    },
    {
     "data": {
      "image/png": "[encoded data removed]",
      "text/plain": [
       "<Figure size 432x288 with 1 Axes>"
      ]
     },
     "metadata": {},
     "output_type": "display_data"
    }
   ],
   "source": [
    "sns.violinplot(x=\"marriage\", y=\"limit_bal\", data=df)"
   ]
  },
  {
   "cell_type": "code",
   "execution_count": 36,
   "metadata": {
    "ExecuteTime": {
     "end_time": "2019-05-05T03:37:11.259322Z",
     "start_time": "2019-05-05T03:37:11.253452Z"
    }
   },
   "outputs": [
    {
     "name": "stdout",
     "output_type": "stream",
     "text": [
      "The proportion of people who default on their loan is 0.2212.\n"
     ]
    }
   ],
   "source": [
    "print(\"The proportion of people who default on their loan is %s.\" %(len(df[df['default']==1])/len(df)))"
   ]
  },
  {
   "cell_type": "code",
   "execution_count": 37,
   "metadata": {
    "ExecuteTime": {
     "end_time": "2019-05-05T04:05:47.763826Z",
     "start_time": "2019-05-05T04:05:47.750014Z"
    }
   },
   "outputs": [],
   "source": [
    "df_mod = pd.get_dummies(df, columns=[\"sex\", \"education\", \"marriage\"])"
   ]
  },
  {
   "cell_type": "code",
   "execution_count": 38,
   "metadata": {
    "ExecuteTime": {
     "end_time": "2019-05-05T04:05:50.966277Z",
     "start_time": "2019-05-05T04:05:50.958456Z"
    }
   },
   "outputs": [],
   "source": [
    "df_mod = df_mod.rename(columns={\n",
    "    \"education_1\": \"education_grad\",\n",
    "    \"education_2\": \"education_univ\",\n",
    "    \"education_3\": \"education_high\",\n",
    "    \"education_4\": \"education_others\",\n",
    "    \"marriage_1\": \"marriage_married\",\n",
    "    \"marriage_2\": \"marriage_single\",\n",
    "    \"marriage_3\": \"marriage_divorced\",\n",
    "    \"sex_1\": \"gender_male\",\n",
    "    \"sex_2\": \"gender_female\"\n",
    "})"
   ]
  },
  {
   "cell_type": "code",
   "execution_count": 39,
   "metadata": {
    "ExecuteTime": {
     "end_time": "2019-05-05T04:05:55.717819Z",
     "start_time": "2019-05-05T04:05:54.503283Z"
    },
    "scrolled": false
   },
   "outputs": [
    {
     "data": {
      "text/plain": [
       "<matplotlib.axes._subplots.AxesSubplot at 0x1a1d6af668>"
      ]
     },
     "execution_count": 39,
     "metadata": {},
     "output_type": "execute_result"
    },
    {
     "data": {
      "image/png": "[encoded data removed]",
      "text/plain": [
       "<Figure size 792x648 with 2 Axes>"
      ]
     },
     "metadata": {},
     "output_type": "display_data"
    }
   ],
   "source": [
    "# adapted from https://seaborn.pydata.org/examples/many_pairwise_correlations.html\n",
    "\n",
    "# Compute the correlation matrix\n",
    "corr = df_mod.corr()\n",
    "\n",
    "# Generate a mask for the upper triangle\n",
    "mask = np.zeros_like(corr, dtype=np.bool)\n",
    "mask[np.triu_indices_from(mask)] = True\n",
    "\n",
    "# Set up the matplotlib figure\n",
    "f, ax = plt.subplots(figsize=(11, 9))\n",
    "\n",
    "# Generate a custom diverging colormap\n",
    "cmap = sns.diverging_palette(220, 10, as_cmap=True)\n",
    "\n",
    "# Draw the heatmap with the mask and correct aspect ratio\n",
    "sns.heatmap(corr, mask=mask, cmap=cmap, vmax=.3, center=0,\n",
    "            square=True, linewidths=.5, cbar_kws={\"shrink\": .5})"
   ]
  },
  {
   "cell_type": "code",
   "execution_count": 40,
   "metadata": {
    "ExecuteTime": {
     "end_time": "2019-05-05T04:51:49.061232Z",
     "start_time": "2019-05-05T04:51:49.009354Z"
    }
   },
   "outputs": [],
   "source": [
    "for i in list([0,2,3,4,5,6]):\n",
    "    df_mod[str('delay_')+str(i)] = df_mod[str('pay_')+str(i)]\n",
    "    df_mod.loc[df_mod[str('delay_')+str(i)]<0, (str('delay_')+str(i))] = 0\n",
    "    #df_mod[str('pay_cat_')+str(i)] = 0\n",
    "#     df_mod[str('pay_cat_')+str(i)] = df_mod[str('pay_')+str(i)]\n",
    "#     df_mod.loc[df_mod[str('pay_')+str(i)]>1, (str('pay_cat_')+str(i))] = 1    "
   ]
  },
  {
   "cell_type": "markdown",
   "metadata": {},
   "source": [
    "       delay.   pay_cat\n",
    "-2 ->   0.        -2\n",
    "-1 ->   0.       -1\n",
    " 0 ->  0.          0\n",
    " 1 ->   1.         1\n",
    " 2 ->   2          1\n",
    " 3 ->   3          1"
   ]
  },
  {
   "cell_type": "code",
   "execution_count": 41,
   "metadata": {
    "ExecuteTime": {
     "end_time": "2019-05-05T04:51:51.795804Z",
     "start_time": "2019-05-05T04:51:51.778641Z"
    }
   },
   "outputs": [
    {
     "data": {
      "text/html": [
       "<div>\n",
       "<style scoped>\n",
       "    .dataframe tbody tr th:only-of-type {\n",
       "        vertical-align: middle;\n",
       "    }\n",
       "\n",
       "    .dataframe tbody tr th {\n",
       "        vertical-align: top;\n",
       "    }\n",
       "\n",
       "    .dataframe thead th {\n",
       "        text-align: right;\n",
       "    }\n",
       "</style>\n",
       "<table border=\"1\" class=\"dataframe\">\n",
       "  <thead>\n",
       "    <tr style=\"text-align: right;\">\n",
       "      <th></th>\n",
       "      <th>id</th>\n",
       "      <th>limit_bal</th>\n",
       "      <th>age</th>\n",
       "      <th>pay_0</th>\n",
       "      <th>pay_2</th>\n",
       "      <th>pay_3</th>\n",
       "      <th>pay_4</th>\n",
       "      <th>pay_5</th>\n",
       "      <th>pay_6</th>\n",
       "      <th>bill_amt_1</th>\n",
       "      <th>...</th>\n",
       "      <th>marriage_0</th>\n",
       "      <th>marriage_married</th>\n",
       "      <th>marriage_single</th>\n",
       "      <th>marriage_divorced</th>\n",
       "      <th>delay_0</th>\n",
       "      <th>delay_2</th>\n",
       "      <th>delay_3</th>\n",
       "      <th>delay_4</th>\n",
       "      <th>delay_5</th>\n",
       "      <th>delay_6</th>\n",
       "    </tr>\n",
       "  </thead>\n",
       "  <tbody>\n",
       "    <tr>\n",
       "      <th>0</th>\n",
       "      <td>1</td>\n",
       "      <td>20000</td>\n",
       "      <td>24</td>\n",
       "      <td>2</td>\n",
       "      <td>2</td>\n",
       "      <td>-1</td>\n",
       "      <td>-1</td>\n",
       "      <td>-2</td>\n",
       "      <td>-2</td>\n",
       "      <td>3913</td>\n",
       "      <td>...</td>\n",
       "      <td>0</td>\n",
       "      <td>1</td>\n",
       "      <td>0</td>\n",
       "      <td>0</td>\n",
       "      <td>2</td>\n",
       "      <td>2</td>\n",
       "      <td>0</td>\n",
       "      <td>0</td>\n",
       "      <td>0</td>\n",
       "      <td>0</td>\n",
       "    </tr>\n",
       "    <tr>\n",
       "      <th>1</th>\n",
       "      <td>2</td>\n",
       "      <td>120000</td>\n",
       "      <td>26</td>\n",
       "      <td>-1</td>\n",
       "      <td>2</td>\n",
       "      <td>0</td>\n",
       "      <td>0</td>\n",
       "      <td>0</td>\n",
       "      <td>2</td>\n",
       "      <td>2682</td>\n",
       "      <td>...</td>\n",
       "      <td>0</td>\n",
       "      <td>0</td>\n",
       "      <td>1</td>\n",
       "      <td>0</td>\n",
       "      <td>0</td>\n",
       "      <td>2</td>\n",
       "      <td>0</td>\n",
       "      <td>0</td>\n",
       "      <td>0</td>\n",
       "      <td>2</td>\n",
       "    </tr>\n",
       "    <tr>\n",
       "      <th>2</th>\n",
       "      <td>3</td>\n",
       "      <td>90000</td>\n",
       "      <td>34</td>\n",
       "      <td>0</td>\n",
       "      <td>0</td>\n",
       "      <td>0</td>\n",
       "      <td>0</td>\n",
       "      <td>0</td>\n",
       "      <td>0</td>\n",
       "      <td>29239</td>\n",
       "      <td>...</td>\n",
       "      <td>0</td>\n",
       "      <td>0</td>\n",
       "      <td>1</td>\n",
       "      <td>0</td>\n",
       "      <td>0</td>\n",
       "      <td>0</td>\n",
       "      <td>0</td>\n",
       "      <td>0</td>\n",
       "      <td>0</td>\n",
       "      <td>0</td>\n",
       "    </tr>\n",
       "    <tr>\n",
       "      <th>3</th>\n",
       "      <td>4</td>\n",
       "      <td>50000</td>\n",
       "      <td>37</td>\n",
       "      <td>0</td>\n",
       "      <td>0</td>\n",
       "      <td>0</td>\n",
       "      <td>0</td>\n",
       "      <td>0</td>\n",
       "      <td>0</td>\n",
       "      <td>46990</td>\n",
       "      <td>...</td>\n",
       "      <td>0</td>\n",
       "      <td>1</td>\n",
       "      <td>0</td>\n",
       "      <td>0</td>\n",
       "      <td>0</td>\n",
       "      <td>0</td>\n",
       "      <td>0</td>\n",
       "      <td>0</td>\n",
       "      <td>0</td>\n",
       "      <td>0</td>\n",
       "    </tr>\n",
       "    <tr>\n",
       "      <th>4</th>\n",
       "      <td>5</td>\n",
       "      <td>50000</td>\n",
       "      <td>57</td>\n",
       "      <td>-1</td>\n",
       "      <td>0</td>\n",
       "      <td>-1</td>\n",
       "      <td>0</td>\n",
       "      <td>0</td>\n",
       "      <td>0</td>\n",
       "      <td>8617</td>\n",
       "      <td>...</td>\n",
       "      <td>0</td>\n",
       "      <td>1</td>\n",
       "      <td>0</td>\n",
       "      <td>0</td>\n",
       "      <td>0</td>\n",
       "      <td>0</td>\n",
       "      <td>0</td>\n",
       "      <td>0</td>\n",
       "      <td>0</td>\n",
       "      <td>0</td>\n",
       "    </tr>\n",
       "  </tbody>\n",
       "</table>\n",
       "<p>5 rows × 38 columns</p>\n",
       "</div>"
      ],
      "text/plain": [
       "   id  limit_bal  age  pay_0  pay_2  pay_3  pay_4  pay_5  pay_6  bill_amt_1  \\\n",
       "0   1      20000   24      2      2     -1     -1     -2     -2        3913   \n",
       "1   2     120000   26     -1      2      0      0      0      2        2682   \n",
       "2   3      90000   34      0      0      0      0      0      0       29239   \n",
       "3   4      50000   37      0      0      0      0      0      0       46990   \n",
       "4   5      50000   57     -1      0     -1      0      0      0        8617   \n",
       "\n",
       "    ...     marriage_0  marriage_married  marriage_single  marriage_divorced  \\\n",
       "0   ...              0                 1                0                  0   \n",
       "1   ...              0                 0                1                  0   \n",
       "2   ...              0                 0                1                  0   \n",
       "3   ...              0                 1                0                  0   \n",
       "4   ...              0                 1                0                  0   \n",
       "\n",
       "   delay_0  delay_2  delay_3  delay_4  delay_5  delay_6  \n",
       "0        2        2        0        0        0        0  \n",
       "1        0        2        0        0        0        2  \n",
       "2        0        0        0        0        0        0  \n",
       "3        0        0        0        0        0        0  \n",
       "4        0        0        0        0        0        0  \n",
       "\n",
       "[5 rows x 38 columns]"
      ]
     },
     "execution_count": 41,
     "metadata": {},
     "output_type": "execute_result"
    }
   ],
   "source": [
    "df_mod.head()"
   ]
  },
  {
   "cell_type": "code",
   "execution_count": 42,
   "metadata": {
    "ExecuteTime": {
     "end_time": "2019-05-05T04:53:43.736441Z",
     "start_time": "2019-05-05T04:53:43.696397Z"
    }
   },
   "outputs": [],
   "source": [
    "# df_mod = pd.get_dummies(df_mod,\n",
    "#                         columns=[\"pay_cat_0\", \"pay_cat_2\",\"pay_cat_3\",\"pay_cat_4\",\"pay_cat_5\",\"pay_cat_6\"],\n",
    "#                         drop_first=True)"
   ]
  },
  {
   "cell_type": "code",
   "execution_count": 43,
   "metadata": {
    "ExecuteTime": {
     "end_time": "2019-05-05T04:53:57.236219Z",
     "start_time": "2019-05-05T04:53:57.225268Z"
    }
   },
   "outputs": [],
   "source": [
    "df_mod = df_mod.drop(['pay_0', 'pay_2', 'pay_3', 'pay_4', 'pay_5', 'pay_6'], axis=1)"
   ]
  },
  {
   "cell_type": "markdown",
   "metadata": {},
   "source": [
    "# Modeling"
   ]
  },
  {
   "cell_type": "code",
   "execution_count": 44,
   "metadata": {
    "ExecuteTime": {
     "end_time": "2019-05-05T05:13:52.525301Z",
     "start_time": "2019-05-05T05:13:52.514686Z"
    }
   },
   "outputs": [],
   "source": [
    "from sklearn.model_selection import train_test_split\n",
    "from sklearn.metrics import accuracy_score, confusion_matrix, roc_curve, auc, classification_report"
   ]
  },
  {
   "cell_type": "code",
   "execution_count": 45,
   "metadata": {},
   "outputs": [],
   "source": [
    "# drop rows that included undocumented values (522)\n",
    "df_mod = df_mod[df_mod[\"education_0\"] == 0]\n",
    "df_mod = df_mod[df_mod[\"marriage_0\"] == 0]"
   ]
  },
  {
   "cell_type": "code",
   "execution_count": 46,
   "metadata": {},
   "outputs": [],
   "source": [
    "# with sensitive attributes\n",
    "x = df_mod.drop(columns=['id', 'default'])"
   ]
  },
  {
   "cell_type": "code",
   "execution_count": 47,
   "metadata": {},
   "outputs": [],
   "source": [
    "# dropping some variables to get baselines\n",
    "x = x.drop(columns=[\n",
    "    \"gender_female\",\n",
    "    \"education_0\",\n",
    "    \"marriage_0\",\n",
    "    \"marriage_single\",\n",
    "    \"education_high\"\n",
    "])\n",
    "\n",
    "\n",
    "y = np.array(df_mod['default'])\n",
    "x_train, x_test, y_train, y_test = train_test_split(x, y, test_size=0.20, stratify=y, random_state=42)"
   ]
  },
  {
   "cell_type": "code",
   "execution_count": 48,
   "metadata": {},
   "outputs": [],
   "source": [
    "def get_model(model, x_train, y_train, x_test, y_test):\n",
    "    \"\"\"Fits an sklearn model whose hyperparameters have been specified and reports model performance.\"\"\"\n",
    "    # fit logistic regression\n",
    "    model.fit(x_train, y_train)\n",
    "    y_hat_train = model.predict(x_train)\n",
    "    y_hat_test = model.predict(x_test)\n",
    "    \n",
    "    # print classification report\n",
    "    print(classification_report(y_test, y_hat_test, target_names=[\"no default\", \"default\"]))\n",
    "    \n",
    "    # report accuracy for test\n",
    "    print(\"Train accuracy CV: {:.4f}\".format(accuracy_score(y_train, y_hat_train)))\n",
    "    print(\"Test accuracy CV: {:.4f}\".format(accuracy_score(y_test, y_hat_test)))\n",
    "    print(\"\")\n",
    "    \n",
    "    # confusion matrix for test\n",
    "    conf_mat = confusion_matrix(y_test, y_hat_test)\n",
    "    print(\"Confusion matrix for test set:\")\n",
    "    \n",
    "    sns.heatmap(conf_mat, annot=True, fmt=\"d\", cmap=sns.cubehelix_palette(light=1, as_cmap=True),\n",
    "                xticklabels=[\"pred default\", \"pred no default\"], yticklabels=[\"true default \", \"true no default\"])\n",
    "    plt.show()\n",
    "    sns.despine()\n",
    "    \n",
    "    # TPR, AUC\n",
    "    tn, fp, fn, tp = conf_mat.ravel()\n",
    "    print(\"TPR for test, subset: {:.4f}\".format(tp/(tp+fn)))\n",
    "    \n",
    "    y_hat_test_probs = model.predict_proba(x_test)[:, 1]\n",
    "    fpr, tpr, thresholds = roc_curve(y_test, y_hat_test_probs)\n",
    "    roc_auc = auc(fpr, tpr)\n",
    "    print(\"AUC for test, subset: {:.4f}\".format(roc_auc))\n",
    "    \n",
    "    return model, (y_test, y_hat_test_probs)"
   ]
  },
  {
   "cell_type": "code",
   "execution_count": 49,
   "metadata": {},
   "outputs": [
    {
     "name": "stdout",
     "output_type": "stream",
     "text": [
      "             precision    recall  f1-score   support\n",
      "\n",
      " no default       0.87      0.84      0.86      4576\n",
      "    default       0.51      0.56      0.54      1320\n",
      "\n",
      "avg / total       0.79      0.78      0.78      5896\n",
      "\n",
      "Train accuracy CV: 0.7779\n",
      "Test accuracy CV: 0.7810\n",
      "\n",
      "Confusion matrix for test set:\n"
     ]
    },
    {
     "data": {
      "image/png": "[encoded data removed]",
      "text/plain": [
       "<Figure size 432x288 with 2 Axes>"
      ]
     },
     "metadata": {},
     "output_type": "display_data"
    },
    {
     "name": "stdout",
     "output_type": "stream",
     "text": [
      "TPR for test, subset: 0.5644\n",
      "AUC for test, subset: 0.7624\n",
      "CPU times: user 1.15 s, sys: 85.5 ms, total: 1.24 s\n",
      "Wall time: 8.73 s\n"
     ]
    },
    {
     "data": {
      "text/plain": [
       "<Figure size 432x288 with 0 Axes>"
      ]
     },
     "metadata": {},
     "output_type": "display_data"
    }
   ],
   "source": [
    "%%time\n",
    "# Let's fit a simple logistic regression\n",
    "from sklearn.linear_model import LogisticRegressionCV\n",
    "logistic_regression, logistic_regression_info = get_model(LogisticRegressionCV(\n",
    "                                    random_state=42,\n",
    "                                    Cs=10,\n",
    "                                    class_weight=\"balanced\",\n",
    "                                    penalty=\"l1\",\n",
    "                                    cv=5,\n",
    "                                    solver=\"liblinear\",\n",
    "                                    n_jobs=4),\n",
    "                                x_train, y_train, x_test, y_test)"
   ]
  },
  {
   "cell_type": "code",
   "execution_count": 89,
   "metadata": {},
   "outputs": [
    {
     "name": "stdout",
     "output_type": "stream",
     "text": [
      "limit_bal: -0.0000\n",
      "age: 0.0042\n",
      "bill_amt_1: -0.0000\n",
      "bill_amt_2: 0.0000\n",
      "bill_amt_3: 0.0000\n",
      "bill_amt_4: -0.0000\n",
      "bill_amt_5: -0.0000\n",
      "bill_amt_6: -0.0000\n",
      "pay_amt_1: -0.0000\n",
      "pay_amt_2: -0.0000\n",
      "pay_amt_3: -0.0000\n",
      "pay_amt_4: -0.0000\n",
      "pay_amt_5: -0.0000\n",
      "pay_amt_6: -0.0000\n",
      "gender_male: 0.1058\n",
      "education_grad: 0.0000\n",
      "education_univ: 0.0000\n",
      "marriage_married: 0.1362\n",
      "marriage_divorced: 0.0000\n",
      "delay_0: 0.8901\n",
      "delay_2: 0.0833\n",
      "delay_3: 0.1542\n",
      "delay_4: 0.1025\n",
      "delay_5: 0.1122\n",
      "delay_6: 0.1214\n"
     ]
    }
   ],
   "source": [
    "# what do the coefficients look like?\n",
    "for col, coeff in zip(x.columns, logistic_regression.coef_[0]):\n",
    "    print(\"{}: {:.4f}\".format(col, coeff))"
   ]
  },
  {
   "cell_type": "code",
   "execution_count": 51,
   "metadata": {},
   "outputs": [
    {
     "name": "stderr",
     "output_type": "stream",
     "text": [
      "/Users/jan/anaconda3/lib/python3.6/site-packages/sklearn/ensemble/weight_boosting.py:29: DeprecationWarning: numpy.core.umath_tests is an internal NumPy module and should not be imported. It will be removed in a future NumPy release.\n",
      "  from numpy.core.umath_tests import inner1d\n"
     ]
    },
    {
     "name": "stdout",
     "output_type": "stream",
     "text": [
      "             precision    recall  f1-score   support\n",
      "\n",
      " no default       0.83      0.94      0.89      4576\n",
      "    default       0.65      0.35      0.45      1320\n",
      "\n",
      "avg / total       0.79      0.81      0.79      5896\n",
      "\n",
      "Train accuracy CV: 0.9992\n",
      "Test accuracy CV: 0.8116\n",
      "\n",
      "Confusion matrix for test set:\n"
     ]
    },
    {
     "data": {
      "image/png": "[encoded data removed]",
      "text/plain": [
       "<Figure size 432x288 with 2 Axes>"
      ]
     },
     "metadata": {},
     "output_type": "display_data"
    },
    {
     "name": "stdout",
     "output_type": "stream",
     "text": [
      "TPR for test, subset: 0.3492\n",
      "AUC for test, subset: 0.7635\n"
     ]
    },
    {
     "data": {
      "text/plain": [
       "<Figure size 432x288 with 0 Axes>"
      ]
     },
     "metadata": {},
     "output_type": "display_data"
    }
   ],
   "source": [
    "# Let's fit a random forest\n",
    "from sklearn.ensemble import RandomForestClassifier\n",
    "random_forest, random_forest_info = get_model(RandomForestClassifier(n_estimators=100,\n",
    "                                         criterion=\"entropy\",\n",
    "                                         random_state=42,\n",
    "                                         max_features=\"log2\",\n",
    "                                         class_weight=\"balanced\",\n",
    "                                         n_jobs=4),\n",
    "                  x_train, y_train, x_test, y_test)"
   ]
  },
  {
   "cell_type": "code",
   "execution_count": 52,
   "metadata": {},
   "outputs": [
    {
     "name": "stdout",
     "output_type": "stream",
     "text": [
      "limit_bal: 0.0663\n",
      "age: 0.0674\n",
      "bill_amt_1: 0.0684\n",
      "bill_amt_2: 0.0589\n",
      "bill_amt_3: 0.0567\n",
      "bill_amt_4: 0.0549\n",
      "bill_amt_5: 0.0543\n",
      "bill_amt_6: 0.0539\n",
      "pay_amt_1: 0.0572\n",
      "pay_amt_2: 0.0541\n",
      "pay_amt_3: 0.0521\n",
      "pay_amt_4: 0.0488\n",
      "pay_amt_5: 0.0491\n",
      "pay_amt_6: 0.0502\n",
      "gender_male: 0.0129\n",
      "education_grad: 0.0102\n",
      "education_univ: 0.0107\n",
      "marriage_married: 0.0119\n",
      "marriage_divorced: 0.0015\n",
      "delay_0: 0.0725\n",
      "delay_2: 0.0313\n",
      "delay_3: 0.0181\n",
      "delay_4: 0.0127\n",
      "delay_5: 0.0136\n",
      "delay_6: 0.0124\n"
     ]
    }
   ],
   "source": [
    "# we can try to understand feature importance\n",
    "for col, coeff in zip(x.columns, random_forest.feature_importances_):\n",
    "    print(\"{}: {:.4f}\".format(col, coeff))"
   ]
  },
  {
   "cell_type": "code",
   "execution_count": 53,
   "metadata": {},
   "outputs": [
    {
     "name": "stdout",
     "output_type": "stream",
     "text": [
      "             precision    recall  f1-score   support\n",
      "\n",
      " no default       0.80      0.91      0.85      4576\n",
      "    default       0.39      0.19      0.26      1320\n",
      "\n",
      "avg / total       0.71      0.75      0.72      5896\n",
      "\n",
      "Train accuracy CV: 0.8159\n",
      "Test accuracy CV: 0.7519\n",
      "\n",
      "Confusion matrix for test set:\n"
     ]
    },
    {
     "data": {
      "image/png": "[encoded data removed]",
      "text/plain": [
       "<Figure size 432x288 with 2 Axes>"
      ]
     },
     "metadata": {},
     "output_type": "display_data"
    },
    {
     "name": "stdout",
     "output_type": "stream",
     "text": [
      "TPR for test, subset: 0.1924\n",
      "AUC for test, subset: 0.6151\n"
     ]
    },
    {
     "data": {
      "text/plain": [
       "<Figure size 432x288 with 0 Axes>"
      ]
     },
     "metadata": {},
     "output_type": "display_data"
    }
   ],
   "source": [
    "# Lastly, let's fit KNN\n",
    "from sklearn.neighbors import KNeighborsClassifier\n",
    "knn, knn_info = get_model(KNeighborsClassifier(n_neighbors=5),\n",
    "          x_train, y_train, x_test, y_test)"
   ]
  },
  {
   "cell_type": "markdown",
   "metadata": {},
   "source": [
    "# Removing protected covariates"
   ]
  },
  {
   "cell_type": "code",
   "execution_count": 54,
   "metadata": {},
   "outputs": [],
   "source": [
    "# Let's fit models that don't use protected categories as covariates\n",
    "protected = [\n",
    "    \"education_grad\",\n",
    "    \"education_univ\",\n",
    "    \"marriage_married\",\n",
    "    \"marriage_divorced\",\n",
    "    \"gender_male\",\n",
    "    \"age\"\n",
    "]"
   ]
  },
  {
   "cell_type": "code",
   "execution_count": 55,
   "metadata": {},
   "outputs": [],
   "source": [
    "# with sensitive attributes\n",
    "x_fair_train = x_train.drop(columns=protected)\n",
    "x_fair_test = x_test.drop(columns=protected)"
   ]
  },
  {
   "cell_type": "code",
   "execution_count": 56,
   "metadata": {},
   "outputs": [
    {
     "name": "stdout",
     "output_type": "stream",
     "text": [
      "             precision    recall  f1-score   support\n",
      "\n",
      " no default       0.86      0.87      0.86      4576\n",
      "    default       0.52      0.50      0.51      1320\n",
      "\n",
      "avg / total       0.78      0.79      0.78      5896\n",
      "\n",
      "Train accuracy CV: 0.7886\n",
      "Test accuracy CV: 0.7853\n",
      "\n",
      "Confusion matrix for test set:\n"
     ]
    },
    {
     "data": {
      "image/png": "[encoded data removed]",
      "text/plain": [
       "<Figure size 432x288 with 2 Axes>"
      ]
     },
     "metadata": {},
     "output_type": "display_data"
    },
    {
     "name": "stdout",
     "output_type": "stream",
     "text": [
      "TPR for test, subset: 0.5023\n",
      "AUC for test, subset: 0.7478\n"
     ]
    },
    {
     "data": {
      "text/plain": [
       "<Figure size 432x288 with 0 Axes>"
      ]
     },
     "metadata": {},
     "output_type": "display_data"
    }
   ],
   "source": [
    "logistic_regression_fair, logistic_regression_fair_info = get_model(LogisticRegressionCV(random_state=42,\n",
    "                                       Cs=10,\n",
    "                                       class_weight=\"balanced\",\n",
    "                                       penalty=\"l1\",\n",
    "                                       cv=5,\n",
    "                                       solver=\"liblinear\",\n",
    "                                       n_jobs=4),\n",
    "                  x_fair_train, y_train, x_fair_test, y_test)"
   ]
  },
  {
   "cell_type": "code",
   "execution_count": 57,
   "metadata": {},
   "outputs": [
    {
     "name": "stdout",
     "output_type": "stream",
     "text": [
      "limit_bal: -0.0000\n",
      "bill_amt_1: -0.0000\n",
      "bill_amt_2: 0.0000\n",
      "bill_amt_3: 0.0000\n",
      "bill_amt_4: -0.0000\n",
      "bill_amt_5: 0.0000\n",
      "bill_amt_6: 0.0000\n",
      "pay_amt_1: -0.0000\n",
      "pay_amt_2: -0.0000\n",
      "pay_amt_3: -0.0000\n",
      "pay_amt_4: -0.0000\n",
      "pay_amt_5: -0.0000\n",
      "pay_amt_6: -0.0000\n",
      "delay_0: 0.5892\n",
      "delay_2: 0.0359\n",
      "delay_3: 0.0280\n",
      "delay_4: 0.0000\n",
      "delay_5: 0.0000\n",
      "delay_6: 0.0000\n"
     ]
    }
   ],
   "source": [
    "# let's understand the coefficients\n",
    "for col, coeff in zip(x_fair_train.columns, logistic_regression_fair.coef_[0]):\n",
    "    print(\"{}: {:.4f}\".format(col, coeff))"
   ]
  },
  {
   "cell_type": "code",
   "execution_count": 58,
   "metadata": {},
   "outputs": [
    {
     "name": "stdout",
     "output_type": "stream",
     "text": [
      "             precision    recall  f1-score   support\n",
      "\n",
      " no default       0.84      0.93      0.88      4576\n",
      "    default       0.61      0.37      0.46      1320\n",
      "\n",
      "avg / total       0.79      0.81      0.79      5896\n",
      "\n",
      "Train accuracy CV: 0.9859\n",
      "Test accuracy CV: 0.8053\n",
      "\n",
      "Confusion matrix for test set:\n"
     ]
    },
    {
     "data": {
      "image/png": "[encoded data removed]",
      "text/plain": [
       "<Figure size 432x288 with 2 Axes>"
      ]
     },
     "metadata": {},
     "output_type": "display_data"
    },
    {
     "name": "stdout",
     "output_type": "stream",
     "text": [
      "TPR for test, subset: 0.3735\n",
      "AUC for test, subset: 0.7570\n"
     ]
    },
    {
     "data": {
      "text/plain": [
       "<Figure size 432x288 with 0 Axes>"
      ]
     },
     "metadata": {},
     "output_type": "display_data"
    }
   ],
   "source": [
    "random_forest_fair, random_forest_fair_info = get_model(RandomForestClassifier(n_estimators=100,\n",
    "                                 criterion=\"entropy\",\n",
    "                                 random_state=42,\n",
    "                                 max_features=\"log2\",\n",
    "                                 class_weight=\"balanced\",\n",
    "                                 n_jobs=4),\n",
    "          x_fair_train, y_train, x_fair_test, y_test)"
   ]
  },
  {
   "cell_type": "code",
   "execution_count": 59,
   "metadata": {},
   "outputs": [
    {
     "name": "stdout",
     "output_type": "stream",
     "text": [
      "limit_bal: 0.0709\n",
      "bill_amt_1: 0.0820\n",
      "bill_amt_2: 0.0694\n",
      "bill_amt_3: 0.0643\n",
      "bill_amt_4: 0.0632\n",
      "bill_amt_5: 0.0622\n",
      "bill_amt_6: 0.0631\n",
      "pay_amt_1: 0.0648\n",
      "pay_amt_2: 0.0626\n",
      "pay_amt_3: 0.0592\n",
      "pay_amt_4: 0.0563\n",
      "pay_amt_5: 0.0555\n",
      "pay_amt_6: 0.0586\n",
      "delay_0: 0.0792\n",
      "delay_2: 0.0334\n",
      "delay_3: 0.0184\n",
      "delay_4: 0.0143\n",
      "delay_5: 0.0134\n",
      "delay_6: 0.0093\n"
     ]
    }
   ],
   "source": [
    "# we can try to understand feature importance\n",
    "for col, coeff in zip(x_fair_train.columns, random_forest_fair.feature_importances_):\n",
    "    print(\"{}: {:.4f}\".format(col, coeff))"
   ]
  },
  {
   "cell_type": "code",
   "execution_count": 60,
   "metadata": {},
   "outputs": [
    {
     "name": "stdout",
     "output_type": "stream",
     "text": [
      "             precision    recall  f1-score   support\n",
      "\n",
      " no default       0.79      0.93      0.86      4576\n",
      "    default       0.39      0.16      0.23      1320\n",
      "\n",
      "avg / total       0.70      0.76      0.72      5896\n",
      "\n",
      "Train accuracy CV: 0.8032\n",
      "Test accuracy CV: 0.7564\n",
      "\n",
      "Confusion matrix for test set:\n"
     ]
    },
    {
     "data": {
      "image/png": "[encoded data removed]",
      "text/plain": [
       "<Figure size 432x288 with 2 Axes>"
      ]
     },
     "metadata": {},
     "output_type": "display_data"
    },
    {
     "name": "stdout",
     "output_type": "stream",
     "text": [
      "TPR for test, subset: 0.1621\n",
      "AUC for test, subset: 0.6190\n"
     ]
    },
    {
     "data": {
      "text/plain": [
       "<Figure size 432x288 with 0 Axes>"
      ]
     },
     "metadata": {},
     "output_type": "display_data"
    }
   ],
   "source": [
    "knn_fair, knn_fair_info = get_model(KNeighborsClassifier(n_neighbors=7,\n",
    "                               n_jobs=4),\n",
    "        x_fair_train, y_train, x_fair_test, y_test)"
   ]
  },
  {
   "cell_type": "code",
   "execution_count": 61,
   "metadata": {},
   "outputs": [],
   "source": [
    "model_infos = {\n",
    "    \"LR\": logistic_regression_info,\n",
    "    \"RF\": random_forest_info,\n",
    "    \"KNN\": knn_info,\n",
    "    \"LR (debiased)\": logistic_regression_fair_info,\n",
    "    \"RF (debiased)\": random_forest_fair_info,\n",
    "    \"KNN (debiased)\": knn_fair_info,  \n",
    "}\n",
    "\n",
    "graph_style = {\n",
    "    \"LR\": (sns.color_palette()[0], \"solid\"),\n",
    "    \"RF\": (sns.color_palette()[1], \"solid\"),\n",
    "    \"KNN\": (sns.color_palette()[2], \"solid\"),\n",
    "    \"LR (debiased)\": (sns.color_palette()[0], \"dotted\"),\n",
    "    \"RF (debiased)\": (sns.color_palette()[1], \"dotted\"),\n",
    "    \"KNN (debiased)\": (sns.color_palette()[2], \"dotted\"),\n",
    "}"
   ]
  },
  {
   "cell_type": "code",
   "execution_count": 94,
   "metadata": {},
   "outputs": [
    {
     "data": {
      "image/png": "[encoded data removed]",
      "text/plain": [
       "<Figure size 720x720 with 1 Axes>"
      ]
     },
     "metadata": {},
     "output_type": "display_data"
    }
   ],
   "source": [
    "# Plot ROC curve\n",
    "# adapted from https://stackoverflow.com/questions/25009284/how-to-plot-roc-curve-in-python\n",
    "plt.figure(figsize=(10,10))\n",
    "plt.plot([0,1], [0,1], linestyle=\"dashed\", color=\"gray\")\n",
    "\n",
    "for model_name, model_info in model_infos.items():\n",
    "    fpr, tpr, thresholds = roc_curve(model_info[0], model_info[1])\n",
    "    roc_auc = auc(fpr, tpr)\n",
    "    plt.plot(fpr, tpr,\n",
    "             color=graph_style[model_name][0], linestyle=graph_style[model_name][1],\n",
    "             label=\"{} (AUC = {:.2f})\".format(model_name, roc_auc))\n",
    "\n",
    "plt.xlim([0,1])\n",
    "plt.ylim([0,1])\n",
    "plt.xlabel(\"False Positive Rate\")\n",
    "plt.ylabel(\"True Positive Rate\")\n",
    "plt.legend(loc=4)\n",
    "sns.despine()\n",
    "plt.savefig(\"docs/img/roc_plot.png\", transparent=True)\n",
    "plt.show()"
   ]
  },
  {
   "cell_type": "markdown",
   "metadata": {},
   "source": [
    "### Observations\n",
    "* The models that don't incorporate protected categories are pretty good.\n",
    "* For RF and LR, the removal of protected categories results in a slight decrease in performance.\n",
    "* For KNN, removing protected categories even improved performance."
   ]
  },
  {
   "cell_type": "markdown",
   "metadata": {},
   "source": [
    "### TODO\n",
    "* Check for disparate impact along the lines of protected categories\n",
    "* Check calibration of predictions"
   ]
  },
  {
   "cell_type": "code",
   "execution_count": 63,
   "metadata": {},
   "outputs": [
    {
     "data": {
      "text/plain": [
       "(array([0, 0, 0, ..., 1, 1, 1]),\n",
       " array([0.14      , 0.1       , 0.12      , ..., 0.45776185, 0.14      ,\n",
       "        0.48      ]))"
      ]
     },
     "execution_count": 63,
     "metadata": {},
     "output_type": "execute_result"
    }
   ],
   "source": [
    "random_forest_fair_info"
   ]
  },
  {
   "cell_type": "code",
   "execution_count": 64,
   "metadata": {},
   "outputs": [],
   "source": [
    "male_mask = x_test[\"gender_male\"] == 1"
   ]
  },
  {
   "cell_type": "code",
   "execution_count": 65,
   "metadata": {},
   "outputs": [],
   "source": [
    "y_test_male = random_forest_fair_info[0][male_mask]\n",
    "y_hat_test_probs_male = random_forest_fair_info[1][male_mask]\n",
    "\n",
    "y_test_female = random_forest_fair_info[0][~male_mask]\n",
    "y_hat_test_probs_female = random_forest_fair_info[1][~male_mask]\n",
    "\n",
    "# y_test_male = random_forest_info[0][male_mask]\n",
    "# y_hat_test_probs_male = random_forest_info[1][male_mask]\n",
    "\n",
    "# y_test_female = random_forest_info[0][~male_mask]\n",
    "# y_hat_test_probs_female = random_forest_info[1][~male_mask]"
   ]
  },
  {
   "cell_type": "code",
   "execution_count": 66,
   "metadata": {},
   "outputs": [
    {
     "data": {
      "image/png": "[encoded data removed]",
      "text/plain": [
       "<Figure size 1080x1080 with 1 Axes>"
      ]
     },
     "metadata": {},
     "output_type": "display_data"
    }
   ],
   "source": [
    "# Plot ROC curve\n",
    "# adapted from https://stackoverflow.com/questions/25009284/how-to-plot-roc-curve-in-python\n",
    "plt.figure(figsize=(15,15))\n",
    "plt.title(\"ROC\")\n",
    "plt.plot([0,1], [0,1], linestyle=\"dashed\", color=\"gray\")\n",
    "\n",
    "fpr, tpr, thresholds = roc_curve(y_test_male, y_hat_test_probs_male)\n",
    "roc_auc = auc(fpr, tpr)\n",
    "plt.plot(fpr, tpr,\n",
    "         color=\"orange\", linestyle=\"dotted\",\n",
    "         label=\"RF (debiased) (male) (AUC = {:.2f})\".format(roc_auc))\n",
    "\n",
    "fpr, tpr, thresholds = roc_curve(y_test_female, y_hat_test_probs_female)\n",
    "roc_auc = auc(fpr, tpr)\n",
    "plt.plot(fpr, tpr,\n",
    "         color=\"blue\", linestyle=\"dotted\",\n",
    "         label=\"RF (debiased) (female) (AUC = {:.2f})\".format(roc_auc))\n",
    "\n",
    "plt.xlim([0,1])\n",
    "plt.ylim([0,1])\n",
    "plt.xlabel(\"False Positive Rate\")\n",
    "plt.ylabel(\"True Positive Rate\")\n",
    "plt.legend(loc=4)\n",
    "sns.despine()\n",
    "plt.show()"
   ]
  },
  {
   "cell_type": "code",
   "execution_count": null,
   "metadata": {},
   "outputs": [],
   "source": []
  }
 ],
 "metadata": {
  "kernelspec": {
   "display_name": "Python 3",
   "language": "python",
   "name": "python3"
  },
  "language_info": {
   "codemirror_mode": {
    "name": "ipython",
    "version": 3
   },
   "file_extension": ".py",
   "mimetype": "text/x-python",
   "name": "python",
   "nbconvert_exporter": "python",
   "pygments_lexer": "ipython3",
   "version": "3.6.8"
  }
 },
 "nbformat": 4,
 "nbformat_minor": 2
}
